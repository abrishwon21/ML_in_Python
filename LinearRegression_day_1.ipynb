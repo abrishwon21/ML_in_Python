{
  "nbformat": 4,
  "nbformat_minor": 0,
  "metadata": {
    "colab": {
      "name": "Untitled28.ipynb",
      "provenance": [],
      "authorship_tag": "ABX9TyMenJ/YSWOkB0I5t+CYIQRL",
      "include_colab_link": true
    },
    "kernelspec": {
      "name": "python3",
      "display_name": "Python 3"
    }
  },
  "cells": [
    {
      "cell_type": "markdown",
      "metadata": {
        "id": "view-in-github",
        "colab_type": "text"
      },
      "source": [
        "<a href=\"https://colab.research.google.com/github/abrishwon21/ML_in_Python/blob/master/LinearRegression_day_1.ipynb\" target=\"_parent\"><img src=\"https://colab.research.google.com/assets/colab-badge.svg\" alt=\"Open In Colab\"/></a>"
      ]
    },
    {
      "cell_type": "code",
      "metadata": {
        "id": "MBhUX33i3rqw",
        "colab_type": "code",
        "colab": {
          "base_uri": "https://localhost:8080/",
          "height": 313
        },
        "outputId": "4ca82112-fdba-4b19-f3ea-8f2e8ba10642"
      },
      "source": [
        "import numpy as np\n",
        "import matplotlib.pyplot as plt\n",
        "from sklearn.linear_model import LinearRegression\n",
        "x=np.array([100,200,500,400,300])\n",
        "y=np.array([1000,2000,5000,4000,3000])\n",
        "x=x.reshape((-1,1))\n",
        "y=y.reshape((-1,1))\n",
        "plt.plot(x,y)\n",
        "plt.xlabel(\"house\")\n",
        "plt.ylabel(\"price\")\n",
        "plt.title(\"house-price\")"
      ],
      "execution_count": 28,
      "outputs": [
        {
          "output_type": "execute_result",
          "data": {
            "text/plain": [
              "Text(0.5, 1.0, 'house-price')"
            ]
          },
          "metadata": {
            "tags": []
          },
          "execution_count": 28
        },
        {
          "output_type": "display_data",
          "data": {
            "image/png": "[encoded data removed]",
            "text/plain": [
              "<Figure size 432x288 with 1 Axes>"
            ]
          },
          "metadata": {
            "tags": [],
            "needs_background": "light"
          }
        }
      ]
    },
    {
      "cell_type": "code",
      "metadata": {
        "id": "GdCZNzNk4_b0",
        "colab_type": "code",
        "colab": {
          "base_uri": "https://localhost:8080/",
          "height": 52
        },
        "outputId": "d4a9c698-d133-4689-de1b-10c54630026a"
      },
      "source": [
        "model=LinearRegression()\n",
        "model.fit(x,y)\n",
        "value=int(input(\"enter the x value\"))\n",
        "model.predict([[value]])\n"
      ],
      "execution_count": 5,
      "outputs": [
        {
          "output_type": "stream",
          "text": [
            "enter the x value700\n"
          ],
          "name": "stdout"
        },
        {
          "output_type": "execute_result",
          "data": {
            "text/plain": [
              "array([[7000.]])"
            ]
          },
          "metadata": {
            "tags": []
          },
          "execution_count": 5
        }
      ]
    },
    {
      "cell_type": "code",
      "metadata": {
        "id": "X9glS_wX5fad",
        "colab_type": "code",
        "colab": {
          "base_uri": "https://localhost:8080/",
          "height": 313
        },
        "outputId": "ecfdc757-f4ad-43b6-82c6-81e0ad134287"
      },
      "source": [
        "test_x=np.array([10,30,100,700,600,450,250])\n",
        "test_x=test_x.reshape((-1,1))\n",
        "ypred=model.predict(test_x)\n",
        "plt.plot(test_x,ypred,c='r',marker=\">\",scalex=2)\n",
        "plt.xlabel(\"house\")\n",
        "plt.ylabel(\"price\")\n",
        "plt.title(\"house-price\")"
      ],
      "execution_count": 18,
      "outputs": [
        {
          "output_type": "execute_result",
          "data": {
            "text/plain": [
              "Text(0.5, 1.0, 'house-price')"
            ]
          },
          "metadata": {
            "tags": []
          },
          "execution_count": 18
        },
        {
          "output_type": "display_data",
          "data": {
            "image/png": "[encoded data removed]",
            "text/plain": [
              "<Figure size 432x288 with 1 Axes>"
            ]
          },
          "metadata": {
            "tags": [],
            "needs_background": "light"
          }
        }
      ]
    },
    {
      "cell_type": "code",
      "metadata": {
        "id": "Ku5CoCCI6icG",
        "colab_type": "code",
        "colab": {
          "base_uri": "https://localhost:8080/",
          "height": 35
        },
        "outputId": "f5c26f8d-43d2-4024-dc45-8f33413d53d3"
      },
      "source": [
        "#to find the intesection\n",
        "model.intercept_"
      ],
      "execution_count": 11,
      "outputs": [
        {
          "output_type": "execute_result",
          "data": {
            "text/plain": [
              "array([4.54747351e-13])"
            ]
          },
          "metadata": {
            "tags": []
          },
          "execution_count": 11
        }
      ]
    },
    {
      "cell_type": "code",
      "metadata": {
        "id": "h7IkVaIF-YI1",
        "colab_type": "code",
        "colab": {
          "base_uri": "https://localhost:8080/",
          "height": 69
        },
        "outputId": "f49a271e-9955-4d82-a91d-13f1cbdfa0c5"
      },
      "source": [
        "#root mean square\n",
        "from sklearn.metrics import mean_absolute_error as mnse,mean_squared_error as msqe\n",
        "print(\"mean square error=\",msqe(ypred,test_x))\n",
        "print(\"mean absolute error=\",mnse(ypred,test_x))\n",
        "print(\"root square error=\",np.sqrt(msqe(ypred,test_x)))"
      ],
      "execution_count": 38,
      "outputs": [
        {
          "output_type": "stream",
          "text": [
            "mean square error= 13029428.57142857\n",
            "mean absolute error= 2751.4285714285716\n",
            "root square error= 3609.62997707917\n"
          ],
          "name": "stdout"
        }
      ]
    },
    {
      "cell_type": "code",
      "metadata": {
        "id": "d4A7ZvcZ_iph",
        "colab_type": "code",
        "colab": {}
      },
      "source": [
        ""
      ],
      "execution_count": null,
      "outputs": []
    },
    {
      "cell_type": "code",
      "metadata": {
        "id": "MN_lcyYZ_Wok",
        "colab_type": "code",
        "colab": {}
      },
      "source": [
        ""
      ],
      "execution_count": null,
      "outputs": []
    }
  ]
}