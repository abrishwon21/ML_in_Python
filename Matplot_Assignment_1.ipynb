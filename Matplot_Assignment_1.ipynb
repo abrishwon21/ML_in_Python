{
  "nbformat": 4,
  "nbformat_minor": 0,
  "metadata": {
    "colab": {
      "name": "Untitled15.ipynb",
      "provenance": [],
      "authorship_tag": "ABX9TyN21WwDXIV+UZ551nJzrcNF",
      "include_colab_link": true
    },
    "kernelspec": {
      "name": "python3",
      "display_name": "Python 3"
    }
  },
  "cells": [
    {
      "cell_type": "markdown",
      "metadata": {
        "id": "view-in-github",
        "colab_type": "text"
      },
      "source": [
        "<a href=\"https://colab.research.google.com/github/abrishwon21/ML_in_Python/blob/master/Matplot_Assignment_1.ipynb\" target=\"_parent\"><img src=\"https://colab.research.google.com/assets/colab-badge.svg\" alt=\"Open In Colab\"/></a>"
      ]
    },
    {
      "cell_type": "code",
      "metadata": {
        "id": "s5fTUVVfL13f",
        "colab_type": "code",
        "colab": {
          "base_uri": "https://localhost:8080/",
          "height": 237
        },
        "outputId": "cf70d7dd-cbf7-467d-b48b-4223ddd97833"
      },
      "source": [
        "#\n",
        "import pandas as pd\n",
        "import numpy as np\n",
        "import matplotlib.pyplot as plt\n",
        "path=\"/content/sample_data/Pokemon.csv\"\n",
        "pokemnData=pd.read_csv(path)\n",
        "pokemnData.head()\n",
        "\n",
        "\n",
        "\n"
      ],
      "execution_count": 31,
      "outputs": [
        {
          "output_type": "execute_result",
          "data": {
            "text/html": [
              "<div>\n",
              "<style scoped>\n",
              "    .dataframe tbody tr th:only-of-type {\n",
              "        vertical-align: middle;\n",
              "    }\n",
              "\n",
              "    .dataframe tbody tr th {\n",
              "        vertical-align: top;\n",
              "    }\n",
              "\n",
              "    .dataframe thead th {\n",
              "        text-align: right;\n",
              "    }\n",
              "</style>\n",
              "<table border=\"1\" class=\"dataframe\">\n",
              "  <thead>\n",
              "    <tr style=\"text-align: right;\">\n",
              "      <th></th>\n",
              "      <th>#</th>\n",
              "      <th>Name</th>\n",
              "      <th>Type1</th>\n",
              "      <th>Type 2</th>\n",
              "      <th>Total</th>\n",
              "      <th>HP</th>\n",
              "      <th>Attack</th>\n",
              "      <th>Defense</th>\n",
              "      <th>Sp. Atk</th>\n",
              "      <th>Sp. Def</th>\n",
              "      <th>Speed</th>\n",
              "      <th>Generation</th>\n",
              "      <th>Legendary</th>\n",
              "    </tr>\n",
              "  </thead>\n",
              "  <tbody>\n",
              "    <tr>\n",
              "      <th>0</th>\n",
              "      <td>1</td>\n",
              "      <td>Bulbasaur</td>\n",
              "      <td>Grass</td>\n",
              "      <td>Poison</td>\n",
              "      <td>318</td>\n",
              "      <td>45</td>\n",
              "      <td>49</td>\n",
              "      <td>49</td>\n",
              "      <td>65</td>\n",
              "      <td>65</td>\n",
              "      <td>45</td>\n",
              "      <td>1</td>\n",
              "      <td>False</td>\n",
              "    </tr>\n",
              "    <tr>\n",
              "      <th>1</th>\n",
              "      <td>2</td>\n",
              "      <td>Ivysaur</td>\n",
              "      <td>Grass</td>\n",
              "      <td>Poison</td>\n",
              "      <td>405</td>\n",
              "      <td>60</td>\n",
              "      <td>62</td>\n",
              "      <td>63</td>\n",
              "      <td>80</td>\n",
              "      <td>80</td>\n",
              "      <td>60</td>\n",
              "      <td>1</td>\n",
              "      <td>False</td>\n",
              "    </tr>\n",
              "    <tr>\n",
              "      <th>2</th>\n",
              "      <td>3</td>\n",
              "      <td>Venusaur</td>\n",
              "      <td>Grass</td>\n",
              "      <td>Poison</td>\n",
              "      <td>525</td>\n",
              "      <td>80</td>\n",
              "      <td>82</td>\n",
              "      <td>83</td>\n",
              "      <td>100</td>\n",
              "      <td>100</td>\n",
              "      <td>80</td>\n",
              "      <td>1</td>\n",
              "      <td>False</td>\n",
              "    </tr>\n",
              "    <tr>\n",
              "      <th>3</th>\n",
              "      <td>3</td>\n",
              "      <td>VenusaurMega Venusaur</td>\n",
              "      <td>Grass</td>\n",
              "      <td>Poison</td>\n",
              "      <td>625</td>\n",
              "      <td>80</td>\n",
              "      <td>100</td>\n",
              "      <td>123</td>\n",
              "      <td>122</td>\n",
              "      <td>120</td>\n",
              "      <td>80</td>\n",
              "      <td>1</td>\n",
              "      <td>False</td>\n",
              "    </tr>\n",
              "    <tr>\n",
              "      <th>4</th>\n",
              "      <td>4</td>\n",
              "      <td>Charmander</td>\n",
              "      <td>Fire</td>\n",
              "      <td>NaN</td>\n",
              "      <td>309</td>\n",
              "      <td>39</td>\n",
              "      <td>52</td>\n",
              "      <td>43</td>\n",
              "      <td>60</td>\n",
              "      <td>50</td>\n",
              "      <td>65</td>\n",
              "      <td>1</td>\n",
              "      <td>False</td>\n",
              "    </tr>\n",
              "  </tbody>\n",
              "</table>\n",
              "</div>"
            ],
            "text/plain": [
              "   #                   Name  Type1  ... Speed  Generation  Legendary\n",
              "0  1              Bulbasaur  Grass  ...    45           1      False\n",
              "1  2                Ivysaur  Grass  ...    60           1      False\n",
              "2  3               Venusaur  Grass  ...    80           1      False\n",
              "3  3  VenusaurMega Venusaur  Grass  ...    80           1      False\n",
              "4  4             Charmander   Fire  ...    65           1      False\n",
              "\n",
              "[5 rows x 13 columns]"
            ]
          },
          "metadata": {
            "tags": []
          },
          "execution_count": 31
        }
      ]
    },
    {
      "cell_type": "code",
      "metadata": {
        "id": "JPtaSg1OPOwM",
        "colab_type": "code",
        "colab": {
          "base_uri": "https://localhost:8080/",
          "height": 320
        },
        "outputId": "fd2d1eef-a13f-44a2-a35a-6d3323dce62f"
      },
      "source": [
        "#now working on home work\n",
        "#1)plot the pie chart for pokemon datas such as [attack , defense, sp attack , speed]\n",
        "\n",
        "def pieChart():\n",
        "  pokmname=input(\"please enter the pokemon name  \")\n",
        "  user_pokemon=pokemnData.groupby('Name')\n",
        "  listOfData=user_pokemon.get_group(pokmname).loc[:,['Attack','Defense','Sp. Atk','Speed']]\n",
        "  lbs=['Attack','Defense','Sp. Attack','Speed']\n",
        "  col=['r','y','b','g']\n",
        "  plt.axis('equal')\n",
        "  plt.pie(listOfData,labels=lbs,colors=col,autopct='%.2f%%',shadow=True)\n",
        "    \n",
        "  plt.legend()\n",
        "  plt.show()\n",
        "  \n",
        "pieChart()"
      ],
      "execution_count": 34,
      "outputs": [
        {
          "output_type": "stream",
          "text": [
            "please enter the pokemon name  Charmander\n"
          ],
          "name": "stdout"
        },
        {
          "output_type": "stream",
          "text": [
            "/usr/local/lib/python3.6/dist-packages/ipykernel_launcher.py:11: MatplotlibDeprecationWarning: Non-1D inputs to pie() are currently squeeze()d, but this behavior is deprecated since 3.1 and will be removed in 3.3; pass a 1D array instead.\n",
            "  # This is added back by InteractiveShellApp.init_path()\n"
          ],
          "name": "stderr"
        },
        {
          "output_type": "display_data",
          "data": {
            "image/png": "[encoded data removed]",
            "text/plain": [
              "<Figure size 432x288 with 1 Axes>"
            ]
          },
          "metadata": {
            "tags": []
          }
        }
      ]
    },
    {
      "cell_type": "code",
      "metadata": {
        "colab_type": "code",
        "id": "P5tt0RTiwdHT",
        "colab": {
          "base_uri": "https://localhost:8080/",
          "height": 641
        },
        "outputId": "c259e18a-03c6-4428-b996-144ceab857a4"
      },
      "source": [
        "#the next question is\n",
        "'''\n",
        "2)subplots \n",
        "\n",
        "i) plot total of pokemon1 and pokemon2\n",
        "\n",
        "ii) plot attack of both pokemon1\n",
        "'''\n",
        "fig,ax=plt.subplots(2,2,figsize=(10,10))\n",
        "#i)\n",
        "grupByTyp=pokemnData.groupby('Type1')\n",
        "#now take the type of pokemons from the user,(of pokemon 1 and pokemon-2)\n",
        "pokmnTyp1=input(\"please enter the type of pokemon 1 \")\n",
        "pokmnTyp2=input(\"please enter the type of pokemon 2 \")\n",
        "total1=grupByTyp.get_group(pokmnTyp1)['Total']\n",
        "sno1=grupByTyp.get_group(pokmnTyp1)['#']\n",
        "attack1=grupByTyp.get_group(pokmnTyp1)['Attack']\n",
        "#for pokemon 2\n",
        "total2=grupByTyp.get_group(pokmnTyp2)['Total']\n",
        "sno2=grupByTyp.get_group(pokmnTyp2)['#']\n",
        "attack2=grupByTyp.get_group(pokmnTyp2)['Attack']\n",
        "def pokemon_one_total():\n",
        "  #ax[0][0].bar(sno1,total1)\n",
        "  ax[0][0].set_xlabel('id')\n",
        "  ax[0][0].set_ylabel('total')\n",
        "  ax[0][0].bar(sno1,total1,width=20,color='g')\n",
        "def pokemon_two_total():\n",
        " # ax[0][1].bar(sno2,total2)\n",
        "  ax[0][1].set_xlabel('S.No')\n",
        "  ax[0][1].set_ylabel('total')\n",
        "  ax[0][1].bar(sno2,total2,width=20,color='g')\n",
        "\n",
        "def pokemon_one_attack():\n",
        "  #ax[1][0].bar(sno2,total2)\n",
        "  ax[1][0].set_xlabel('S.No')\n",
        "  ax[1][0].set_ylabel('Attack')\n",
        "  ax[1][0].bar(sno1,attack1,width=30,color='r')\n",
        "\n",
        "def pokemon_two_attack():\n",
        "  #ax[1][1].bar(sno2,total2)\n",
        "  ax[1][1].set_xlabel('S.No')\n",
        "  ax[1][1].set_ylabel('Attack')\n",
        "  ax[1][1].bar(sno2,attack2,width=30,color='r')\n",
        "  \n",
        "\n",
        "\n",
        "\n",
        "def comparison():\n",
        "  pokemon_one_total()\n",
        "  \n",
        "  pokemon_two_total()\n",
        "  \n",
        "  pokemon_two_attack()\n",
        "  pokemon_one_attack()\n",
        "  plt.legend(labels=['total','Attack'])\n",
        "  plt.show()\n",
        "\n",
        "comparison()\n",
        "\n",
        "\n",
        "\n"
      ],
      "execution_count": 70,
      "outputs": [
        {
          "output_type": "stream",
          "text": [
            "please enter the type of pokemon 1 Grass\n",
            "please enter the type of pokemon 2 Fire\n"
          ],
          "name": "stdout"
        },
        {
          "output_type": "display_data",
          "data": {
            "image/png": "[encoded data removed]",
            "text/plain": [
              "<Figure size 720x720 with 4 Axes>"
            ]
          },
          "metadata": {
            "tags": [],
            "needs_background": "light"
          }
        }
      ]
    },
    {
      "cell_type": "code",
      "metadata": {
        "id": "7QjQuy0syxX9",
        "colab_type": "code",
        "colab": {
          "base_uri": "https://localhost:8080/",
          "height": 336
        },
        "outputId": "634a12f3-43f0-4d25-ae96-0c4cceda551e"
      },
      "source": [
        "#the 3rd question and it's answer is as following\n",
        "#3) plot how many water pokemon , fire pokemon , bug pokemon, poision , rock\n",
        "def barchar():\n",
        "  fig=plt.figure()\n",
        "  ax=fig.add_axes([0,0,1,1])\n",
        "  no_of_pokTp=grupByTyp['Type1'].count()\n",
        "  type2=pokemnData.groupby('Type 2')\n",
        "  poisn=type2['Type 2'].count()\n",
        "  c=['g','#f30df2','#00f00f','r','#ff0493']\n",
        "  counter=[no_of_pokTp['Water'],no_of_pokTp['Fire'],no_of_pokTp['Bug'],poisn['Poison'],no_of_pokTp['Rock']]\n",
        "  poktypes=['Water','Fire','Bug','Poison','Rock']\n",
        "  ax.bar(poktypes,counter,color=c)\n",
        "  plt.show()\n",
        "\n",
        "barchar() \n"
      ],
      "execution_count": 95,
      "outputs": [
        {
          "output_type": "display_data",
          "data": {
            "image/png": "[encoded data removed]",
            "text/plain": [
              "<Figure size 432x288 with 1 Axes>"
            ]
          },
          "metadata": {
            "tags": [],
            "needs_background": "light"
          }
        }
      ]
    }
  ]
}