{
 "cells": [
  {
   "cell_type": "code",
   "execution_count": 3,
   "metadata": {},
   "outputs": [
    {
     "name": "stdout",
     "output_type": "stream",
     "text": [
      "[2 1 3 2 4]\n"
     ]
    }
   ],
   "source": [
    "import numpy as np\n",
    "m=np.array([2,1,3,2,4])\n",
    "print(m)"
   ]
  },
  {
   "cell_type": "code",
   "execution_count": 6,
   "metadata": {},
   "outputs": [
    {
     "name": "stdout",
     "output_type": "stream",
     "text": [
      "[[ 0  1  2  3  4  5  6  7  8]\n",
      " [ 9 10 11 12 13 14 15 16 17]\n",
      " [18 19 20 21 22 23 24 25 26]\n",
      " [27 28 29 30 31 32 33 34 35]\n",
      " [36 37 38 39 40 41 42 43 44]\n",
      " [45 46 47 48 49 50 51 52 53]\n",
      " [54 55 56 57 58 59 60 61 62]\n",
      " [63 64 65 66 67 68 69 70 71]\n",
      " [72 73 74 75 76 77 78 79 80]]\n"
     ]
    }
   ],
   "source": [
    "mp=np.arange(81).reshape(9,9)\n",
    "print(mp)"
   ]
  },
  {
   "cell_type": "code",
   "execution_count": 8,
   "metadata": {},
   "outputs": [
    {
     "name": "stdout",
     "output_type": "stream",
     "text": [
      "[[ 0  1  2]\n",
      " [ 9 10 11]\n",
      " [18 19 20]]\n"
     ]
    }
   ],
   "source": [
    "print(mp[:3,:3])"
   ]
  },
  {
   "cell_type": "code",
   "execution_count": 11,
   "metadata": {},
   "outputs": [
    {
     "ename": "TypeError",
     "evalue": "Required argument 'object' (pos 1) not found",
     "traceback": [
      "\u001b[1;31m---------------------------------------------------------------------------\u001b[0m",
      "\u001b[1;31mTypeError\u001b[0m                                 Traceback (most recent call last)",
      "\u001b[1;32m<ipython-input-11-2f713ee17556>\u001b[0m in \u001b[0;36m<module>\u001b[1;34m()\u001b[0m\n\u001b[0;32m      2\u001b[0m \u001b[0mc\u001b[0m\u001b[1;33m=\u001b[0m\u001b[1;36m3\u001b[0m\u001b[1;33m\u001b[0m\u001b[0m\n\u001b[0;32m      3\u001b[0m \u001b[0mi\u001b[0m\u001b[1;33m=\u001b[0m\u001b[1;36m0\u001b[0m\u001b[1;33m\u001b[0m\u001b[0m\n\u001b[1;32m----> 4\u001b[1;33m \u001b[0mkn\u001b[0m\u001b[1;33m=\u001b[0m\u001b[0mnp\u001b[0m\u001b[1;33m.\u001b[0m\u001b[0marray\u001b[0m\u001b[1;33m(\u001b[0m\u001b[1;33m)\u001b[0m\u001b[1;33m\u001b[0m\u001b[0m\n\u001b[0m\u001b[0;32m      5\u001b[0m \u001b[1;33m\u001b[0m\u001b[0m\n\u001b[0;32m      6\u001b[0m \u001b[1;32mfor\u001b[0m \u001b[0mn\u001b[0m \u001b[1;32min\u001b[0m \u001b[0mrange\u001b[0m\u001b[1;33m(\u001b[0m\u001b[1;36m3\u001b[0m\u001b[1;33m)\u001b[0m\u001b[1;33m:\u001b[0m\u001b[1;33m\u001b[0m\u001b[0m\n",
      "\u001b[1;31mTypeError\u001b[0m: Required argument 'object' (pos 1) not found"
     ],
     "output_type": "error"
    }
   ],
   "source": [
    "r=3\n",
    "c=3\n",
    "i=0\n",
    "kn=np.array()\n",
    "\n",
    "for n in range(3):\n",
    "    j=0\n",
    "    for k in range(3):\n",
    "        if(c<=9):\n",
    "            print(mp[i:r,j:c])\n",
    "            j=c\n",
    "            c=c+3\n",
    "        else:\n",
    "            print(mp[i:r,j:])\n",
    "    i=r\n",
    "    r=r+3\n",
    "    \n",
    "        \n",
    "    "
   ]
  },
  {
   "cell_type": "code",
   "execution_count": 14,
   "metadata": {},
   "outputs": [
    {
     "name": "stdout",
     "output_type": "stream",
     "text": [
      "[[ 0  1  2]\n",
      " [ 9 10 11]\n",
      " [18 19 20]]\n",
      "[[ 3  4  5]\n",
      " [12 13 14]\n",
      " [21 22 23]]\n",
      "[[ 6  7  8]\n",
      " [15 16 17]\n",
      " [24 25 26]]\n",
      "[[27 28 29 30 31 32 33 34 35]\n",
      " [36 37 38 39 40 41 42 43 44]\n",
      " [45 46 47 48 49 50 51 52 53]]\n",
      "[[27 28 29 30 31 32 33 34 35]\n",
      " [36 37 38 39 40 41 42 43 44]\n",
      " [45 46 47 48 49 50 51 52 53]]\n",
      "[[27 28 29 30 31 32 33 34 35]\n",
      " [36 37 38 39 40 41 42 43 44]\n",
      " [45 46 47 48 49 50 51 52 53]]\n",
      "[[54 55 56 57 58 59 60 61 62]\n",
      " [63 64 65 66 67 68 69 70 71]\n",
      " [72 73 74 75 76 77 78 79 80]]\n",
      "[[54 55 56 57 58 59 60 61 62]\n",
      " [63 64 65 66 67 68 69 70 71]\n",
      " [72 73 74 75 76 77 78 79 80]]\n",
      "[[54 55 56 57 58 59 60 61 62]\n",
      " [63 64 65 66 67 68 69 70 71]\n",
      " [72 73 74 75 76 77 78 79 80]]\n"
     ]
    }
   ],
   "source": [
    "\n",
    "def my():\n",
    "       \n",
    "    r=3\n",
    "    c=3\n",
    "    i=0\n",
    "    \n",
    "\n",
    "    for n in range(3):\n",
    "        j=0\n",
    "        for k in range(3):\n",
    "            if(c<=9):\n",
    "                print(mp[i:r,j:c])\n",
    "                j=c\n",
    "                c=c+3\n",
    "            else:\n",
    "                print(mp[i:r,j:])\n",
    "        i=r\n",
    "        r=r+3\n",
    "my()\n",
    "\n",
    "        \n",
    "    "
   ]
  },
  {
   "cell_type": "code",
   "execution_count": 16,
   "metadata": {},
   "outputs": [
    {
     "name": "stdout",
     "output_type": "stream",
     "text": [
      "[[ 0  1  2  3  4  5  6  7  8]\n",
      " [ 9 10 11 12 13 14 15 16 17]\n",
      " [18 19 20 21 22 23 24 25 26]\n",
      " [27 28 29 30 31 32 33 34 35]\n",
      " [36 37 38 39 40 41 42 43 44]\n",
      " [45 46 47 48 49 50 51 52 53]\n",
      " [54 55 56 57 58 59 60 61 62]\n",
      " [63 64 65 66 67 68 69 70 71]\n",
      " [72 73 74 75 76 77 78 79 80]]\n",
      "[[ 0  1  2]\n",
      " [ 9 10 11]\n",
      " [18 19 20]]\n",
      "[[ 3  4  5]\n",
      " [12 13 14]\n",
      " [21 22 23]]\n",
      "[[ 6  7  8]\n",
      " [15 16 17]\n",
      " [24 25 26]]\n",
      "[[27 28 29 30 31 32 33 34 35]\n",
      " [36 37 38 39 40 41 42 43 44]\n",
      " [45 46 47 48 49 50 51 52 53]]\n",
      "[[54 55 56 57 58 59 60 61 62]\n",
      " [63 64 65 66 67 68 69 70 71]\n",
      " [72 73 74 75 76 77 78 79 80]]\n"
     ]
    }
   ],
   "source": [
    "print(mp)\n",
    "def my():\n",
    "       \n",
    "    r=3\n",
    "    c=3\n",
    "    i=0\n",
    "    \n",
    "\n",
    "    for n in range(3):\n",
    "        j=0\n",
    "        for k in range(3):\n",
    "            if(c<=9):\n",
    "                print(mp[i:r,j:c])\n",
    "                j=c\n",
    "                c=c+3\n",
    "            else:\n",
    "                print(mp[i:r,j:])\n",
    "                break\n",
    "        i=r\n",
    "        r=r+3\n",
    "my()\n",
    "\n",
    "        \n",
    "    "
   ]
  },
  {
   "cell_type": "code",
   "execution_count": 17,
   "metadata": {},
   "outputs": [
    {
     "name": "stdout",
     "output_type": "stream",
     "text": [
      "[[ 0  1  2  3  4  5  6  7  8]\n",
      " [ 9 10 11 12 13 14 15 16 17]\n",
      " [18 19 20 21 22 23 24 25 26]\n",
      " [27 28 29 30 31 32 33 34 35]\n",
      " [36 37 38 39 40 41 42 43 44]\n",
      " [45 46 47 48 49 50 51 52 53]\n",
      " [54 55 56 57 58 59 60 61 62]\n",
      " [63 64 65 66 67 68 69 70 71]\n",
      " [72 73 74 75 76 77 78 79 80]]\n",
      "[[ 0  1  2]\n",
      " [ 9 10 11]\n",
      " [18 19 20]]\n",
      "[[ 3  4  5]\n",
      " [12 13 14]\n",
      " [21 22 23]]\n",
      "[[ 6  7  8]\n",
      " [15 16 17]\n",
      " [24 25 26]]\n",
      "[[27 28 29 30 31 32 33 34 35]\n",
      " [36 37 38 39 40 41 42 43 44]\n",
      " [45 46 47 48 49 50 51 52 53]]\n",
      "[[54 55 56 57 58 59 60 61 62]\n",
      " [63 64 65 66 67 68 69 70 71]\n",
      " [72 73 74 75 76 77 78 79 80]]\n"
     ]
    }
   ],
   "source": [
    "print(mp)\n",
    "def my():\n",
    "       \n",
    "    r=3\n",
    "    c=3\n",
    "    i=0\n",
    "    \n",
    "\n",
    "    for n in range(3):\n",
    "        j=0\n",
    "        for k in range(3):\n",
    "            if(c<=9):\n",
    "                print(mp[i:r,j:c])\n",
    "                j=c\n",
    "                c=c+3\n",
    "            else:\n",
    "                print(mp[i:r,j:])\n",
    "                break\n",
    "        i=r\n",
    "        r=r+3\n",
    "my()\n",
    "\n",
    "        \n",
    "    "
   ]
  },
  {
   "cell_type": "code",
   "execution_count": 22,
   "metadata": {},
   "outputs": [
    {
     "name": "stdout",
     "output_type": "stream",
     "text": [
      "[[ 0  1  2  3  4  5  6  7  8]\n",
      " [ 9 10 11 12 13 14 15 16 17]\n",
      " [18 19 20 21 22 23 24 25 26]\n",
      " [27 28 29 30 31 32 33 34 35]\n",
      " [36 37 38 39 40 41 42 43 44]\n",
      " [45 46 47 48 49 50 51 52 53]\n",
      " [54 55 56 57 58 59 60 61 62]\n",
      " [63 64 65 66 67 68 69 70 71]\n",
      " [72 73 74 75 76 77 78 79 80]]\n",
      "[[ 0  1  2]\n",
      " [ 9 10 11]\n",
      " [18 19 20]]\n",
      "[[ 3  4  5]\n",
      " [12 13 14]\n",
      " [21 22 23]]\n",
      "[[ 6  7  8]\n",
      " [15 16 17]\n",
      " [24 25 26]]\n"
     ]
    }
   ],
   "source": [
    "print(mp)\n",
    "def my():\n",
    "       \n",
    "    r=3\n",
    "    c=3\n",
    "    i=0\n",
    "    \n",
    "\n",
    "    for n in range(9):\n",
    "        j=0\n",
    "        for k in range(3):\n",
    "            if(c<=9):\n",
    "                print(mp[i:r,j:c])\n",
    "                j=c\n",
    "                c=c+3\n",
    "        if(r<=9):\n",
    "            i=r\n",
    "            r=r+3\n",
    "my()\n",
    "\n",
    "        \n",
    "    "
   ]
  },
  {
   "cell_type": "markdown",
   "metadata": {},
   "source": [
    "# print(mp)\n",
    "def my():\n",
    "       \n",
    "    r=3\n",
    "    c=3\n",
    "  \n",
    "    \n",
    "\n",
    "    for i in range(len(mp)):\n",
    "        j=0\n",
    "        for k in range(3):\n",
    "            if(c<=9):\n",
    "                print(mp[i:r,j:c])\n",
    "                \n",
    "                j=c\n",
    "                c=c+3\n",
    "        \n",
    "        if(r<=9):\n",
    "            i=r\n",
    "            r=r+3\n",
    "            \n",
    "my()\n",
    "\n",
    "        \n",
    "    "
   ]
  },
  {
   "cell_type": "markdown",
   "metadata": {},
   "source": [
    "# fancy indexing\n",
    "# arraname[[rowcoordinates],[cplumnco ordinates]]\n"
   ]
  },
  {
   "cell_type": "code",
   "execution_count": 28,
   "metadata": {},
   "outputs": [
    {
     "name": "stdout",
     "output_type": "stream",
     "text": [
      "[[10 20 30]\n",
      " [40 50 60]\n",
      " [70 80 90]]\n"
     ]
    }
   ],
   "source": [
    "arr=np.arange(10,100,10)\n",
    "arr=np.reshape(arr,(3,3))\n",
    "print(arr)\n"
   ]
  },
  {
   "cell_type": "code",
   "execution_count": 30,
   "metadata": {},
   "outputs": [
    {
     "name": "stdout",
     "output_type": "stream",
     "text": [
      "[20 40 80 60 50 30]\n"
     ]
    }
   ],
   "source": [
    "print(arr[[0,1,2,1,1,0],[1,0,1,2,1,2]])"
   ]
  },
  {
   "cell_type": "code",
   "execution_count": 32,
   "metadata": {},
   "outputs": [
    {
     "name": "stdout",
     "output_type": "stream",
     "text": [
      "[60]\n",
      "[70 80 90]\n"
     ]
    }
   ],
   "source": [
    "#boolean indexing\n",
    "print(arr[arr%12==0])\n",
    "#for greater than 60\n",
    "print(arr[arr>60])\n",
    "\n",
    "\n",
    "\n"
   ]
  },
  {
   "cell_type": "code",
   "execution_count": 40,
   "metadata": {},
   "outputs": [
    {
     "name": "stdout",
     "output_type": "stream",
     "text": [
      "[[7 7 7]\n",
      " [7 7 7]\n",
      " [7 7 7]]\n",
      "[[2 2 2]\n",
      " [2 2 2]\n",
      " [2 2 2]]\n"
     ]
    },
    {
     "data": {
      "text/plain": [
       "'\\noutput\\n\\n[[7 7 7]\\n [7 7 7]\\n [7 7 7]]\\n[[2 2 2]\\n [2 2 2]\\n [2 2 2]]\\narray([[7, 7, 7],\\n       [7, 7, 7],\\n       [7, 7, 7],\\n       [2, 2, 2],\\n       [2, 2, 2],\\n       [2, 2, 2]])\\n'"
      ]
     },
     "execution_count": 40,
     "metadata": {},
     "output_type": "execute_result"
    }
   ],
   "source": [
    "#full concept\n",
    "m1=np.full((3,3),7)\n",
    "print(m1)\n",
    "m2=np.full((3,3),2)\n",
    "print(m2)\n",
    "\n",
    "#to concatenate\n",
    "np.concatenate((m1,m2))\n",
    "#to concatenate horizontally\n",
    "np.concatenate((m1,m2),axis=1)\n",
    "\n",
    "#vstack stack array vertically\n",
    "np.vstack((m1,m2))\n",
    "#hstack for stacking horizontally,stack array horizontall\n",
    "np.hstack((m1,m2))\n",
    "np.r_[m1,m2]#stack vertically\n",
    "np.c_[m1,m2]#to arrange/stack horizontally/columnwise\n",
    "\n",
    "np.row_stack((m1,m2))\n",
    "'''\n",
    "output\n",
    "\n",
    "[[7 7 7]\n",
    " [7 7 7]\n",
    " [7 7 7]]\n",
    "[[2 2 2]\n",
    " [2 2 2]\n",
    " [2 2 2]]\n",
    "array([[7, 7, 7],\n",
    "       [7, 7, 7],\n",
    "       [7, 7, 7],\n",
    "       [2, 2, 2],\n",
    "       [2, 2, 2],\n",
    "       [2, 2, 2]])\n",
    "'''"
   ]
  },
  {
   "cell_type": "code",
   "execution_count": 43,
   "metadata": {},
   "outputs": [
    {
     "data": {
      "text/plain": [
       "'\\n\\n[array([[10, 20, 30]]), array([[40, 50, 60]]), array([[70, 80, 90]])]\\n'"
      ]
     },
     "execution_count": 43,
     "metadata": {},
     "output_type": "execute_result"
    }
   ],
   "source": [
    "#splitting\n",
    "#hsplit()\n",
    "np.hsplit(arr,3)\n",
    "'''\n",
    "\n",
    "[array([[10],\n",
    "        [40],\n",
    "        [70]]), array([[20],\n",
    "        [50],\n",
    "        [80]]), array([[30],\n",
    "        [60],\n",
    "        [90]])]\n",
    "'''\n",
    "#vsplit()\n",
    "np.vsplit(arr,3)\n",
    "'''\n",
    "\n",
    "[array([[10, 20, 30]]), array([[40, 50, 60]]), array([[70, 80, 90]])]\n",
    "'''\n",
    "\n"
   ]
  },
  {
   "cell_type": "code",
   "execution_count": 49,
   "metadata": {},
   "outputs": [
    {
     "name": "stdout",
     "output_type": "stream",
     "text": [
      "[[12 31  3]\n",
      " [12 31  3]\n",
      " [12 31  3]\n",
      " [12 31  3]]\n"
     ]
    }
   ],
   "source": [
    "a=np.array([12,31,3])\n",
    "a1=np.array([12,31,3])\n",
    "a2=np.array([12,31,3])\n",
    "a1=np.array([12,31,3])\n",
    "a4=np.array([a,a2,a2,a1])\n",
    "\n",
    "print(a4)"
   ]
  },
  {
   "cell_type": "code",
   "execution_count": 50,
   "metadata": {},
   "outputs": [
    {
     "name": "stdout",
     "output_type": "stream",
     "text": [
      "appended array is \n",
      "[[7 7 7]\n",
      " [7 7 7]\n",
      " [7 7 7]\n",
      " [2 2 2]\n",
      " [2 2 2]\n",
      " [2 2 2]]\n"
     ]
    }
   ],
   "source": [
    "appendarray=np.append(m1,m2,axis=0)\n",
    "print(\"appended array is \")\n",
    "print(appendarray)"
   ]
  },
  {
   "cell_type": "code",
   "execution_count": 53,
   "metadata": {},
   "outputs": [
    {
     "name": "stdout",
     "output_type": "stream",
     "text": [
      "[[7 7 7]\n",
      " [2 2 2]\n",
      " [2 2 2]\n",
      " [2 2 2]\n",
      " [7 7 7]\n",
      " [7 7 7]]\n"
     ]
    }
   ],
   "source": [
    "#insert concept\n",
    "#syntax: \n",
    "#np.insert(array-name1,index,array-name2,axis)\n",
    "insertedArray=np.insert(m1,1,m2,axis=0)\n",
    "print(insertedArray)"
   ]
  },
  {
   "cell_type": "code",
   "execution_count": 56,
   "metadata": {},
   "outputs": [
    {
     "name": "stdout",
     "output_type": "stream",
     "text": [
      "[7 7 7 7 7 7 7 7]\n"
     ]
    },
    {
     "data": {
      "text/plain": [
       "array([[7, 7],\n",
       "       [7, 7],\n",
       "       [7, 7]])"
      ]
     },
     "execution_count": 56,
     "metadata": {},
     "output_type": "execute_result"
    }
   ],
   "source": [
    "#how to delete\n",
    "deletedArray=np.delete(m1,1)\n",
    "print(deletedArray)\n",
    "#to remove column\n",
    "np.delete(m1,1,axis=1)\n",
    "#broadcasting\n"
   ]
  }
 ],
 "metadata": {
  "kernelspec": {
   "display_name": "Python 2",
   "language": "python",
   "name": "python2"
  },
  "language_info": {
   "codemirror_mode": {
    "name": "ipython",
    "version": 2
   },
   "file_extension": ".py",
   "mimetype": "text/x-python",
   "name": "python",
   "nbconvert_exporter": "python",
   "pygments_lexer": "ipython2",
   "version": "2.7.15"
  }
 },
 "nbformat": 4,
 "nbformat_minor": 2
}
