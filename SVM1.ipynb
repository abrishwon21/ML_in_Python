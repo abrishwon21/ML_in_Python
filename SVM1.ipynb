{
  "nbformat": 4,
  "nbformat_minor": 0,
  "metadata": {
    "colab": {
      "name": "Untitled23.ipynb",
      "provenance": [],
      "authorship_tag": "ABX9TyO/02tjqgtpSGeqpJCKQmwG",
      "include_colab_link": true
    },
    "kernelspec": {
      "name": "python3",
      "display_name": "Python 3"
    }
  },
  "cells": [
    {
      "cell_type": "markdown",
      "metadata": {
        "id": "view-in-github",
        "colab_type": "text"
      },
      "source": [
        "<a href=\"https://colab.research.google.com/github/abrishwon21/ML_in_Python/blob/master/SVM1.ipynb\" target=\"_parent\"><img src=\"https://colab.research.google.com/assets/colab-badge.svg\" alt=\"Open In Colab\"/></a>"
      ]
    },
    {
      "cell_type": "code",
      "metadata": {
        "id": "J_AI1UpfPcqP",
        "colab_type": "code",
        "colab": {}
      },
      "source": [
        "#svm\n",
        "import numpy as np\n",
        "from sklearn.datasets import load_iris\n",
        "import matplotlib.pyplot as plt\n",
        "import pandas as pd\n",
        "\n"
      ],
      "execution_count": 2,
      "outputs": []
    },
    {
      "cell_type": "code",
      "metadata": {
        "id": "qbaln5HAQd5C",
        "colab_type": "code",
        "colab": {}
      },
      "source": [
        "dataset=load_iris()\n",
        "df_flower=pd.DataFrame(dataset['data'],columns=dataset['feature_names'])\n",
        "df_flower=df_flower.iloc[:,:2]\n",
        "y=dataset['target']\n"
      ],
      "execution_count": 5,
      "outputs": []
    },
    {
      "cell_type": "code",
      "metadata": {
        "id": "XQYIofVNRaou",
        "colab_type": "code",
        "colab": {
          "base_uri": "https://localhost:8080/",
          "height": 87
        },
        "outputId": "fc0ae6fe-cabf-498b-83e2-cc37546664a1"
      },
      "source": [
        "from sklearn.svm import SVC as sv\n",
        "model=sv(kernel='linear',C=1)\n",
        "model.fit(df_flower,y)\n",
        "\n"
      ],
      "execution_count": 11,
      "outputs": [
        {
          "output_type": "execute_result",
          "data": {
            "text/plain": [
              "SVC(C=1, break_ties=False, cache_size=200, class_weight=None, coef0=0.0,\n",
              "    decision_function_shape='ovr', degree=3, gamma='scale', kernel='linear',\n",
              "    max_iter=-1, probability=False, random_state=None, shrinking=True,\n",
              "    tol=0.001, verbose=False)"
            ]
          },
          "metadata": {
            "tags": []
          },
          "execution_count": 11
        }
      ]
    },
    {
      "cell_type": "code",
      "metadata": {
        "id": "qkHygrmaSKBK",
        "colab_type": "code",
        "colab": {}
      },
      "source": [
        "x_min,x_max=df_flower.iloc[:,0].min()-1,df_flower.iloc[:,0].max()+1\n",
        "y_min,y_max=df_flower.iloc[:,1].min()-1,df_flower.iloc[:,1].max()+1\n",
        "h=(x_max/x_min)/100\n",
        "xx,yy=np.meshgrid(np.arange(x_min,x_max,h),np.arange(y_min,y_max,h))"
      ],
      "execution_count": 23,
      "outputs": []
    },
    {
      "cell_type": "code",
      "metadata": {
        "id": "J-lGqNZjUEEt",
        "colab_type": "code",
        "colab": {
          "base_uri": "https://localhost:8080/",
          "height": 283
        },
        "outputId": "3403a853-142d-4945-f1bf-775f6e05bf62"
      },
      "source": [
        "plt.subplot(1,1,1)\n",
        "z=model.predict(np.c_[xx.ravel(),yy.ravel()])\n",
        "z=z.reshape(xx.shape)\n",
        "plt.contour(xx,yy,z,cmap=plt.cm.afmhot,alpha=0.8)"
      ],
      "execution_count": 25,
      "outputs": [
        {
          "output_type": "execute_result",
          "data": {
            "text/plain": [
              "<matplotlib.contour.QuadContourSet at 0x7fabb043abe0>"
            ]
          },
          "metadata": {
            "tags": []
          },
          "execution_count": 25
        },
        {
          "output_type": "display_data",
          "data": {
            "image/png": "[encoded data removed]",
            "text/plain": [
              "<Figure size 432x288 with 1 Axes>"
            ]
          },
          "metadata": {
            "tags": [],
            "needs_background": "light"
          }
        }
      ]
    },
    {
      "cell_type": "code",
      "metadata": {
        "id": "WhKG8pWwU-N7",
        "colab_type": "code",
        "colab": {}
      },
      "source": [
        "#df_flower1=dataset['data'].iloc[:,:2]\n",
        "#plt.scatter(df_flower.iloc[:,0],df_flower.iloc[:,1],c=y,cmap=plt.afmhot)"
      ],
      "execution_count": 36,
      "outputs": []
    }
  ]
}