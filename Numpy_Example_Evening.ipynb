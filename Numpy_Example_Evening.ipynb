{
 "cells": [
  {
   "cell_type": "code",
   "execution_count": 1,
   "metadata": {
    "id": "kkkvH0lhivf6",
    "colab_type": "code",
    "colab": {
     "base_uri": "https://localhost:8080/",
     "height": 35.0
    },
    "outputId": "1a671223-0cdd-413d-92e5-0a448b195cd6"
   },
   "outputs": [
    {
     "name": "stdout",
     "output_type": "stream",
     "text": [
      "type of arr is <class 'numpy.ndarray'>\n"
     ]
    }
   ],
   "source": [
    "#index , order \n",
    "import numpy as np\n",
    "arr=np.array([10,20,40,50])\n",
    "print('type of arr is', type(arr))"
   ]
  },
  {
   "cell_type": "code",
   "execution_count": null,
   "metadata": {
    "id": "fdTylF5gmXSs",
    "colab_type": "code",
    "colab": {
     "base_uri": "https://localhost:8080/",
     "height": 35.0
    },
    "outputId": "ed1791b1-5891-446a-c609-a7a38625367c"
   },
   "outputs": [
    {
     "name": "stdout",
     "output_type": "stream",
     "text": [
      "[ 20  40  80 100]\n"
     ]
    }
   ],
   "source": [
    "print(arr*2)"
   ]
  },
  {
   "cell_type": "code",
   "execution_count": null,
   "metadata": {
    "id": "zQCLxMmOmjxw",
    "colab_type": "code",
    "colab": {
     "base_uri": "https://localhost:8080/",
     "height": 54.0
    },
    "outputId": "96a1e1ee-4738-4c4c-d92f-61834b3cfb38"
   },
   "outputs": [
    {
     "name": "stdout",
     "output_type": "stream",
     "text": [
      "---Avg number of runs---\n",
      "[100.          35.71428571  55.2238806   56.52173913]\n"
     ]
    }
   ],
   "source": [
    "lr=[1000,2000,3700,1300]\n",
    "lm=[10,56,67,23]\n",
    "rarr=np.array(lr)\n",
    "marr=np.array(lm)\n",
    "print('---Avg number of runs---')\n",
    "print(rarr/marr)"
   ]
  },
  {
   "cell_type": "code",
   "execution_count": null,
   "metadata": {
    "id": "-DgCyGklnA1L",
    "colab_type": "code",
    "colab": {
     "base_uri": "https://localhost:8080/",
     "height": 72.0
    },
    "outputId": "6f73d694-09f2-49da-d5b6-90638bcfb7e8"
   },
   "outputs": [
    {
     "name": "stdout",
     "output_type": "stream",
     "text": [
      "Dimension of array is 1\n",
      "Element size in array is 8\n",
      "Element data type in array is int64\n"
     ]
    }
   ],
   "source": [
    "print('Dimension of array is',arr.ndim)\n",
    "print('Element size in array is',arr.itemsize)\n",
    "print('Element data type in array is',arr.dtype)"
   ]
  },
  {
   "cell_type": "code",
   "execution_count": null,
   "metadata": {
    "id": "KjfBkLZ9nar8",
    "colab_type": "code",
    "colab": {
     "base_uri": "https://localhost:8080/",
     "height": 54.0
    },
    "outputId": "54dcec12-ac9e-4dcd-d943-5de3f866838f"
   },
   "outputs": [
    {
     "name": "stdout",
     "output_type": "stream",
     "text": [
      "type of arr is [10. 20. 40. 50.]\n",
      "Element size in array is 8\n"
     ]
    }
   ],
   "source": [
    "arr=np.array([10,20,40,50], dtype=np.float64)\n",
    "print('type of arr is', arr)\n",
    "print('Element size in array is',arr.itemsize)\n"
   ]
  },
  {
   "cell_type": "code",
   "execution_count": null,
   "metadata": {
    "id": "5mLUuqCZnlsW",
    "colab_type": "code",
    "colab": {
     "base_uri": "https://localhost:8080/",
     "height": 35.0
    },
    "outputId": "6cce1118-d85a-4645-ccc9-ece158f986b1"
   },
   "outputs": [
    {
     "name": "stdout",
     "output_type": "stream",
     "text": [
      "Shape of array  (4,)\n"
     ]
    }
   ],
   "source": [
    "print('Shape of array ',arr.shape)"
   ]
  },
  {
   "cell_type": "code",
   "execution_count": null,
   "metadata": {
    "id": "YMbn8k1NohQv",
    "colab_type": "code",
    "colab": {
     "base_uri": "https://localhost:8080/",
     "height": 54.0
    },
    "outputId": "e6b01a00-5ddd-4c9a-ecb4-eee311740fd1"
   },
   "outputs": [
    {
     "name": "stdout",
     "output_type": "stream",
     "text": [
      "[10 20 30 50]\n",
      "<class 'numpy.ndarray'>\n"
     ]
    }
   ],
   "source": [
    "# asarray()\n",
    "arr1=np.asarray([10,20,30,50])\n",
    "print(arr1)\n",
    "print(type(arr1))"
   ]
  },
  {
   "cell_type": "code",
   "execution_count": null,
   "metadata": {
    "id": "eM6IdSq_pI2F",
    "colab_type": "code",
    "colab": {
     "base_uri": "https://localhost:8080/",
     "height": 54.0
    },
    "outputId": "3347f7d3-0c87-4614-9426-f1c1f6157c5d"
   },
   "outputs": [
    {
     "name": "stdout",
     "output_type": "stream",
     "text": [
      "enter index to get value-1\n",
      "Value at given index is 50\n"
     ]
    }
   ],
   "source": [
    "i=int(input('enter index to get value'))\n",
    "print('Value at given index is',arr1[i])"
   ]
  },
  {
   "cell_type": "code",
   "execution_count": null,
   "metadata": {
    "id": "U5hkjGzcpcT4",
    "colab_type": "code",
    "colab": {
     "base_uri": "https://localhost:8080/",
     "height": 72.0
    },
    "outputId": "d60425b4-84cd-4a11-c5d0-7ef8fcb531e7"
   },
   "outputs": [
    {
     "name": "stdout",
     "output_type": "stream",
     "text": [
      "enter index to get value1\n",
      "enter value for given index100\n",
      "Array after update is [ 10 100  30  50]\n"
     ]
    }
   ],
   "source": [
    "i=int(input('enter index to get value'))\n",
    "v=int(input('enter value for given index'))\n",
    "arr1[i]=v\n",
    "print('Array after update is',arr1)"
   ]
  },
  {
   "cell_type": "code",
   "execution_count": null,
   "metadata": {
    "id": "BAx6Z-JjpyTL",
    "colab_type": "code",
    "colab": {
     "base_uri": "https://localhost:8080/",
     "height": 72.0
    },
    "outputId": "c0c1a28a-b4f0-4b77-dfd0-49f15dcfb112"
   },
   "outputs": [
    {
     "name": "stdout",
     "output_type": "stream",
     "text": [
      "Value in given range [100  30]\n",
      "Value in given range [ 50  30 100  10]\n",
      "Value in given range [10 30]\n"
     ]
    }
   ],
   "source": [
    "print('Value in given range',arr1[1:3])\n",
    "print('Value in given range',arr1[: :-1])\n",
    "print('Value in given range',arr1[0: :2])"
   ]
  },
  {
   "cell_type": "code",
   "execution_count": null,
   "metadata": {
    "id": "LjP1reYQqB3h",
    "colab_type": "code",
    "colab": {
     "base_uri": "https://localhost:8080/",
     "height": 90.0
    },
    "outputId": "0f6e962b-7dcf-4524-e1d4-98495febe731"
   },
   "outputs": [
    {
     "name": "stdout",
     "output_type": "stream",
     "text": [
      "Array in given range is [1 2 3 4 5 6 7 8 9]\n",
      "Shape of array is (9,)\n",
      "Array in given range is [10 20 30 40 50 60 70 80 90]\n",
      "Shape of array is (9,)\n"
     ]
    }
   ],
   "source": [
    "# arange (start, end , step) start= 0 , step = 1\n",
    "# end will be excluded\n",
    "arr2=np.arange(1,10)\n",
    "print(\"Array in given range is\",arr2)\n",
    "print('Shape of array is',arr2.shape)\n",
    "arr3=np.arange(10,100,10)\n",
    "print(\"Array in given range is\",arr3)\n",
    "print('Shape of array is',arr2.shape)"
   ]
  },
  {
   "cell_type": "code",
   "execution_count": null,
   "metadata": {
    "id": "pyepBenCqleH",
    "colab_type": "code",
    "colab": {
     "base_uri": "https://localhost:8080/",
     "height": 90.0
    },
    "outputId": "485b3f23-6852-4bf8-84d2-925fd95d237c"
   },
   "outputs": [
    {
     "name": "stdout",
     "output_type": "stream",
     "text": [
      "--Matrix 1---\n",
      "[[1 2 3]\n",
      " [4 5 6]\n",
      " [7 8 9]]\n"
     ]
    }
   ],
   "source": [
    "mat=np.array([[1,2,3],[4,5,6],[7,8,9]])\n",
    "print(\"--Matrix 1---\")\n",
    "print(mat)"
   ]
  },
  {
   "cell_type": "code",
   "execution_count": null,
   "metadata": {
    "id": "SBAiM0xEq-Qi",
    "colab_type": "code",
    "colab": {
     "base_uri": "https://localhost:8080/",
     "height": 35.0
    },
    "outputId": "4825d30f-32a0-4031-8bf8-e5663c157b20"
   },
   "outputs": [
    {
     "name": "stdout",
     "output_type": "stream",
     "text": [
      "Shape of matrix (3, 3)\n"
     ]
    }
   ],
   "source": [
    "print('Shape of matrix',mat.shape)"
   ]
  },
  {
   "cell_type": "code",
   "execution_count": null,
   "metadata": {
    "id": "p6dBcYLxsTVf",
    "colab_type": "code",
    "colab": {
     "base_uri": "https://localhost:8080/",
     "height": 35.0
    },
    "outputId": "6d032f97-3ddc-4659-a724-4c457c2a799a"
   },
   "outputs": [
    {
     "name": "stdout",
     "output_type": "stream",
     "text": [
      "Value at given column in row is 9\n"
     ]
    }
   ],
   "source": [
    "# arrayname[rowindex][columnindex]\n",
    "print('Value at given column in row is',mat[2][2])"
   ]
  },
  {
   "cell_type": "code",
   "execution_count": null,
   "metadata": {
    "id": "5ahhwvkhsqVc",
    "colab_type": "code",
    "colab": {
     "base_uri": "https://localhost:8080/",
     "height": 90.0
    },
    "outputId": "e9a093e4-6dd1-43d9-ed7d-026269af4cca"
   },
   "outputs": [
    {
     "name": "stdout",
     "output_type": "stream",
     "text": [
      "Updated matrix\n",
      "[[ 1  2 50]\n",
      " [ 4  5  6]\n",
      " [ 7  8  9]]\n"
     ]
    }
   ],
   "source": [
    "mat[0][2]=50\n",
    "print('Updated matrix')\n",
    "print(mat)"
   ]
  },
  {
   "cell_type": "code",
   "execution_count": null,
   "metadata": {
    "id": "N7It9scAs1XQ",
    "colab_type": "code",
    "colab": {
     "base_uri": "https://localhost:8080/",
     "height": 90.0
    },
    "outputId": "4a1cd96b-e6c8-46e9-90fe-df2c1974df27"
   },
   "outputs": [
    {
     "name": "stdout",
     "output_type": "stream",
     "text": [
      "--Zero Matrix is----\n",
      "[[0. 0. 0.]\n",
      " [0. 0. 0.]\n",
      " [0. 0. 0.]]\n"
     ]
    }
   ],
   "source": [
    "# zero matrix \n",
    "z = np.zeros((3,3))\n",
    "print('--Zero Matrix is----')\n",
    "print(z)"
   ]
  },
  {
   "cell_type": "code",
   "execution_count": null,
   "metadata": {
    "id": "BlDsHSGAtFyk",
    "colab_type": "code",
    "colab": {
     "base_uri": "https://localhost:8080/",
     "height": 90.0
    },
    "outputId": "49458920-761c-4f9c-95b7-e6db011465ad"
   },
   "outputs": [
    {
     "name": "stdout",
     "output_type": "stream",
     "text": [
      "--Zero Matrix is----\n",
      "[[0 0 0]\n",
      " [0 0 0]\n",
      " [0 0 0]]\n"
     ]
    }
   ],
   "source": [
    "z = np.zeros((3,3),dtype=np.int32)\n",
    "print('--Zero Matrix is----')\n",
    "print(z)"
   ]
  },
  {
   "cell_type": "code",
   "execution_count": null,
   "metadata": {
    "id": "pSF-nwOytMM8",
    "colab_type": "code",
    "colab": {
     "base_uri": "https://localhost:8080/",
     "height": 90.0
    },
    "outputId": "38223b2a-2c1a-4a12-82c1-5da722865c79"
   },
   "outputs": [
    {
     "name": "stdout",
     "output_type": "stream",
     "text": [
      "--One Mmatrix ---\n",
      "[[1 1 1]\n",
      " [1 1 1]\n",
      " [1 1 1]]\n"
     ]
    }
   ],
   "source": [
    "# ones()\n",
    "o= np.ones((3,3),dtype=np.int32)\n",
    "print('--One Mmatrix ---')\n",
    "print(o)"
   ]
  },
  {
   "cell_type": "code",
   "execution_count": null,
   "metadata": {
    "id": "0ETdeY62tWoN",
    "colab_type": "code",
    "colab": {
     "base_uri": "https://localhost:8080/",
     "height": 90.0
    },
    "outputId": "0fe653ab-cb38-4cd0-d6d4-ab7e6661b65a"
   },
   "outputs": [
    {
     "name": "stdout",
     "output_type": "stream",
     "text": [
      "enter number to fill in matrix11\n",
      "[[11 11 11]\n",
      " [11 11 11]\n",
      " [11 11 11]]\n"
     ]
    }
   ],
   "source": [
    "n=int(input('enter number to fill in matrix'))\n",
    "print(o*n)"
   ]
  },
  {
   "cell_type": "code",
   "execution_count": null,
   "metadata": {
    "id": "wg51AswbtlSO",
    "colab_type": "code",
    "colab": {
     "base_uri": "https://localhost:8080/",
     "height": 72.0
    },
    "outputId": "fb5b670d-460d-4f98-edfc-c40fbaae19ee"
   },
   "outputs": [
    {
     "name": "stdout",
     "output_type": "stream",
     "text": [
      "filled array \n",
      "[[7 7 7]\n",
      " [7 7 7]]\n"
     ]
    }
   ],
   "source": [
    "# full(shape ,element)\n",
    "farray=np.full((2,3),7)\n",
    "print('filled array ')\n",
    "print(farray)"
   ]
  },
  {
   "cell_type": "code",
   "execution_count": null,
   "metadata": {
    "id": "HhxsTOQTt3Qv",
    "colab_type": "code",
    "colab": {
     "base_uri": "https://localhost:8080/",
     "height": 90.0
    },
    "outputId": "58e55411-5810-4a07-8b5a-1b8fcf8ccc9f"
   },
   "outputs": [
    {
     "name": "stdout",
     "output_type": "stream",
     "text": [
      "--Random array is ---\n",
      "[[0.11768908 0.2138599  0.2269946 ]\n",
      " [0.9903687  0.79072767 0.51063998]\n",
      " [0.10069561 0.72333213 0.19785098]]\n"
     ]
    }
   ],
   "source": [
    "#random matrix\n",
    "rarray= np.random.random((3,3))\n",
    "print('--Random array is ---')\n",
    "print(rarray)"
   ]
  },
  {
   "cell_type": "code",
   "execution_count": null,
   "metadata": {
    "id": "Sf-lqiYpuOHj",
    "colab_type": "code",
    "colab": {
     "base_uri": "https://localhost:8080/",
     "height": 90.0
    },
    "outputId": "96c5d9ec-0013-413a-91a1-f5bb1826882b"
   },
   "outputs": [
    {
     "name": "stdout",
     "output_type": "stream",
     "text": [
      "--Random array is ---\n",
      "[[30 39 17]\n",
      " [32 11 21]\n",
      " [23 38 16]]\n"
     ]
    }
   ],
   "source": [
    "# randint(start , end range , shape)\n",
    "rarray1= np.random.randint(10,40,(3,3))\n",
    "print('--Random array is ---')\n",
    "print(rarray1)"
   ]
  },
  {
   "cell_type": "code",
   "execution_count": null,
   "metadata": {
    "id": "RGMq1DDFuu2s",
    "colab_type": "code",
    "colab": {
     "base_uri": "https://localhost:8080/",
     "height": 90.0
    },
    "outputId": "6ee7172d-6ac5-4be4-bf93-b266d04ac2c8"
   },
   "outputs": [
    {
     "name": "stdout",
     "output_type": "stream",
     "text": [
      "--Identity matrix is ----\n",
      "[[1. 0. 0.]\n",
      " [0. 1. 0.]\n",
      " [0. 0. 1.]]\n"
     ]
    }
   ],
   "source": [
    "# identity \n",
    "iarray = np.eye(3)\n",
    "print('--Identity matrix is ----')\n",
    "print(iarray)"
   ]
  },
  {
   "cell_type": "code",
   "execution_count": null,
   "metadata": {
    "id": "dJF0CX5lvLQt",
    "colab_type": "code",
    "colab": {
     "base_uri": "https://localhost:8080/",
     "height": 163.0
    },
    "outputId": "798046e2-7bc3-4f4d-e189-aec7c143f3b9"
   },
   "outputs": [
    {
     "name": "stdout",
     "output_type": "stream",
     "text": [
      "--original matrix---\n",
      "[[10 20 30]\n",
      " [40 50 60]]\n",
      "Shape of matrix  (2, 3)\n",
      "---Transpose matrix is---\n",
      "[[10 40]\n",
      " [20 50]\n",
      " [30 60]]\n"
     ]
    }
   ],
   "source": [
    "mat2=np.array([[10,20,30],[40,50,60]])\n",
    "print('--original matrix---')\n",
    "print(mat2)\n",
    "print('Shape of matrix ',mat2.shape)\n",
    "print('---Transpose matrix is---')\n",
    "print(np.transpose(mat2))"
   ]
  },
  {
   "cell_type": "code",
   "execution_count": null,
   "metadata": {
    "id": "2b7JN90FveNa",
    "colab_type": "code",
    "colab": {
     "base_uri": "https://localhost:8080/",
     "height": 90.0
    },
    "outputId": "cf04f3a8-bcd2-4693-d0f5-df4a4701adda"
   },
   "outputs": [
    {
     "name": "stdout",
     "output_type": "stream",
     "text": [
      "---Transpose matrix is---\n",
      "[[10 40]\n",
      " [20 50]\n",
      " [30 60]]\n"
     ]
    }
   ],
   "source": [
    "print('---Transpose matrix is---')\n",
    "print(mat2.T)"
   ]
  },
  {
   "cell_type": "code",
   "execution_count": null,
   "metadata": {
    "id": "4tqB7eONv3PG",
    "colab_type": "code",
    "colab": {
     "base_uri": "https://localhost:8080/",
     "height": 90.0
    },
    "outputId": "9dd1ac13-6063-4ae1-ac74-2d9d0fbb6f2e"
   },
   "outputs": [
    {
     "name": "stdout",
     "output_type": "stream",
     "text": [
      "-original matrix is--\n",
      "[[10 20 30 50]\n",
      " [ 1  2  3  4]]\n",
      "Shape of m is (2, 4)\n"
     ]
    }
   ],
   "source": [
    "m = np.array([[10,20,30,50],[1,2,3,4]])\n",
    "print('-original matrix is--')\n",
    "print(m)\n",
    "print('Shape of m is',m.shape)"
   ]
  },
  {
   "cell_type": "code",
   "execution_count": null,
   "metadata": {
    "id": "RfTjrsQWx7lc",
    "colab_type": "code",
    "colab": {
     "base_uri": "https://localhost:8080/",
     "height": 108.0
    },
    "outputId": "07024db3-1890-4588-c260-b3e02a785d84"
   },
   "outputs": [
    {
     "name": "stdout",
     "output_type": "stream",
     "text": [
      "--Reshape array is ---\n",
      "[[10 20]\n",
      " [30 50]\n",
      " [ 1  2]\n",
      " [ 3  4]]\n"
     ]
    }
   ],
   "source": [
    "#reshape(object ,(shape)) - it create new array with given shape \n",
    "# while reshape number of elements of array should remain same \n",
    "rarray=np.reshape(m ,(4,2))  # (4,2) ,(8,1),(1,8),(2,4)\n",
    "print('--Reshape array is ---')\n",
    "print(rarray)"
   ]
  },
  {
   "cell_type": "code",
   "execution_count": null,
   "metadata": {
    "id": "p391gQ13yRl0",
    "colab_type": "code",
    "colab": {
     "base_uri": "https://localhost:8080/",
     "height": 90.0
    },
    "outputId": "582032de-2e3e-44c2-b9a7-702ca78ae99a"
   },
   "outputs": [
    {
     "name": "stdout",
     "output_type": "stream",
     "text": [
      "--Reshape array is ---\n",
      "[[10 20 30 50  1  2  3  4]]\n",
      "Shape of reshape array (1, 8)\n",
      "Dimension reshaped array 2\n"
     ]
    }
   ],
   "source": [
    "rarray1=np.reshape(m ,(1,-1))  \n",
    "print('--Reshape array is ---')\n",
    "print(rarray1)\n",
    "print('Shape of reshape array',rarray1.shape)\n",
    "print('Dimension reshaped array',rarray1.ndim)"
   ]
  },
  {
   "cell_type": "code",
   "execution_count": null,
   "metadata": {
    "id": "ma4MA0YqytwW",
    "colab_type": "code",
    "colab": {
     "base_uri": "https://localhost:8080/",
     "height": 199.0
    },
    "outputId": "e2b53808-e5e7-4880-ffa3-860f70b8244c"
   },
   "outputs": [
    {
     "name": "stdout",
     "output_type": "stream",
     "text": [
      "--Reshape array is ---\n",
      "[[10]\n",
      " [20]\n",
      " [30]\n",
      " [50]\n",
      " [ 1]\n",
      " [ 2]\n",
      " [ 3]\n",
      " [ 4]]\n",
      "Shape of reshape array (8, 1)\n"
     ]
    }
   ],
   "source": [
    "rarray2=np.reshape(m ,(-1,1))  \n",
    "print('--Reshape array is ---')\n",
    "print(rarray2)\n",
    "print('Shape of reshape array',rarray2.shape)"
   ]
  },
  {
   "cell_type": "code",
   "execution_count": null,
   "metadata": {
    "id": "9Hl0UVjJ0OCT",
    "colab_type": "code",
    "colab": {
     "base_uri": "https://localhost:8080/",
     "height": 54.0
    },
    "outputId": "0faecdd8-4d9f-44e3-9eaf-0c214c44a5d0"
   },
   "outputs": [
    {
     "name": "stdout",
     "output_type": "stream",
     "text": [
      "[[10 20 30 50]\n",
      " [ 1  2  3  4]]\n"
     ]
    }
   ],
   "source": [
    "print(m)"
   ]
  },
  {
   "cell_type": "code",
   "execution_count": null,
   "metadata": {
    "id": "e9FUvnH10npO",
    "colab_type": "code",
    "colab": {
     "base_uri": "https://localhost:8080/",
     "height": 90.0
    },
    "outputId": "de04204a-aa0a-4b0a-f919-8269bece72fc"
   },
   "outputs": [
    {
     "name": "stdout",
     "output_type": "stream",
     "text": [
      "[[10 20]\n",
      " [30 50]\n",
      " [ 1  2]\n",
      " [ 3  4]]\n"
     ]
    }
   ],
   "source": [
    "m.shape=(4,2)  # reshape using shape property modifies original array\n",
    "print(m)"
   ]
  },
  {
   "cell_type": "code",
   "execution_count": null,
   "metadata": {
    "id": "rnOWGODS0tTA",
    "colab_type": "code",
    "colab": {
     "base_uri": "https://localhost:8080/",
     "height": 90.0
    },
    "outputId": "21886435-75fd-43ce-eec1-d80efbacdf70"
   },
   "outputs": [
    {
     "name": "stdout",
     "output_type": "stream",
     "text": [
      "original array\n",
      "[[1 2 3]\n",
      " [4 5 6]\n",
      " [7 8 9]]\n"
     ]
    }
   ],
   "source": [
    "# resize(object , new shape ) \n",
    "arr=np.arange(1,10)\n",
    "arr=arr.reshape(3,3)\n",
    "print('original array')\n",
    "print(arr)"
   ]
  },
  {
   "cell_type": "code",
   "execution_count": null,
   "metadata": {
    "id": "vlAHCmdM1j3H",
    "colab_type": "code",
    "colab": {
     "base_uri": "https://localhost:8080/",
     "height": 145.0
    },
    "outputId": "4ce5558a-4111-4eac-adbc-1327e392c1e3"
   },
   "outputs": [
    {
     "name": "stdout",
     "output_type": "stream",
     "text": [
      "--Resized array---\n",
      "[[1 2 3 4 5 6]\n",
      " [7 8 9 1 2 3]\n",
      " [4 5 6 7 8 9]\n",
      " [1 2 3 4 5 6]\n",
      " [7 8 9 1 2 3]\n",
      " [4 5 6 7 8 9]]\n"
     ]
    }
   ],
   "source": [
    "resizearray=np.resize(arr,(6,6))\n",
    "print('--Resized array---')\n",
    "print(resizearray)"
   ]
  },
  {
   "cell_type": "code",
   "execution_count": null,
   "metadata": {
    "id": "ffqxSQAp13CT",
    "colab_type": "code",
    "colab": {
     "base_uri": "https://localhost:8080/",
     "height": 72.0
    },
    "outputId": "3b732061-aa66-47be-cc54-fd6c23dbe341"
   },
   "outputs": [
    {
     "name": "stdout",
     "output_type": "stream",
     "text": [
      "--Resized array---\n",
      "[[1 2 3]\n",
      " [4 5 6]]\n"
     ]
    }
   ],
   "source": [
    "resizearray1=np.resize(arr,(2,3))\n",
    "print('--Resized array---')\n",
    "print(resizearray1)"
   ]
  },
  {
   "cell_type": "code",
   "execution_count": null,
   "metadata": {
    "id": "8jmERIuB2AcT",
    "colab_type": "code",
    "colab": {
     "base_uri": "https://localhost:8080/",
     "height": 108.0
    },
    "outputId": "461d523a-85ed-4390-ba8f-f74545bf1e4c"
   },
   "outputs": [
    {
     "name": "stdout",
     "output_type": "stream",
     "text": [
      "Original array\n",
      "[[10 20]\n",
      " [30 50]\n",
      " [ 1  2]\n",
      " [ 3  4]]\n"
     ]
    }
   ],
   "source": [
    "# ravel()\n",
    "print('Original array')\n",
    "print(m)"
   ]
  },
  {
   "cell_type": "code",
   "execution_count": null,
   "metadata": {
    "id": "dQpm2cGl3tfI",
    "colab_type": "code",
    "colab": {
     "base_uri": "https://localhost:8080/",
     "height": 72.0
    },
    "outputId": "5c28a265-e88d-409e-eece-127c80220e0b"
   },
   "outputs": [
    {
     "name": "stdout",
     "output_type": "stream",
     "text": [
      "[10 20 30 50  1  2  3  4]\n",
      "Shape of array after ravel (8,)\n",
      "Dimension of r 1\n"
     ]
    }
   ],
   "source": [
    "r=m.ravel()  \n",
    "print(r)\n",
    "print('Shape of array after ravel',r.shape)\n",
    "print('Dimension of r',r.ndim)\n"
   ]
  },
  {
   "cell_type": "code",
   "execution_count": null,
   "metadata": {
    "id": "Tq3IPxCT3xzJ",
    "colab_type": "code",
    "colab": {
     "base_uri": "https://localhost:8080/",
     "height": 235.0
    },
    "outputId": "62dce3cc-783a-49e4-8755-dd94e4769bd5"
   },
   "outputs": [
    {
     "name": "stdout",
     "output_type": "stream",
     "text": [
      "Sum of two matrix [[12 14 16]\n",
      " [18 20 22]\n",
      " [24 26 28]]\n",
      "Sub of two matrix [[10 10 10]\n",
      " [10 10 10]\n",
      " [10 10 10]]\n",
      "Mul of two matrix [[ 11  24  39]\n",
      " [ 56  75  96]\n",
      " [119 144 171]]\n",
      "Div of two matrix [[11.          6.          4.33333333]\n",
      " [ 3.5         3.          2.66666667]\n",
      " [ 2.42857143  2.25        2.11111111]]\n"
     ]
    }
   ],
   "source": [
    "m1=np.arange(11,20)\n",
    "m2=np.arange(1,10)\n",
    "m1=m1.reshape(3,3)\n",
    "m2=m2.reshape(3,3)\n",
    "add=m1+m2 \n",
    "add1=np.add(m1,m2)\n",
    "mul=np.multiply(m1,m2)\n",
    "sub=np.subtract(m1,m2)\n",
    "div=np.divide(m1,m2)\n",
    "print('Sum of two matrix',add1)\n",
    "print('Sub of two matrix',sub)\n",
    "print('Mul of two matrix',mul)\n",
    "print('Div of two matrix',div)\n"
   ]
  },
  {
   "cell_type": "code",
   "execution_count": null,
   "metadata": {
    "id": "OsLrxAw557RJ",
    "colab_type": "code",
    "colab": {
     "base_uri": "https://localhost:8080/",
     "height": 54.0
    },
    "outputId": "f577f521-9296-4ab2-9863-4c84c99e7947"
   },
   "outputs": [
    {
     "name": "stdout",
     "output_type": "stream",
     "text": [
      "[0.   0.05 0.1  0.15 0.2  0.25 0.3  0.35 0.4  0.45 0.5  0.55 0.6  0.65\n",
      " 0.7  0.75 0.8  0.85 0.9  0.95]\n"
     ]
    }
   ],
   "source": [
    "ar=np.arange(0,1.0,0.05)\n",
    "print(ar)"
   ]
  },
  {
   "cell_type": "code",
   "execution_count": null,
   "metadata": {
    "id": "N_5ir4bL6SgY",
    "colab_type": "code",
    "colab": {
     "base_uri": "https://localhost:8080/",
     "height": 90.0
    },
    "outputId": "86d44048-83ae-469a-ac31-e0aca797569a"
   },
   "outputs": [
    {
     "name": "stdout",
     "output_type": "stream",
     "text": [
      "Sin array is [0.         0.04997917 0.09983342 0.14943813 0.19866933 0.24740396\n",
      " 0.29552021 0.34289781 0.38941834 0.43496553 0.47942554 0.52268723\n",
      " 0.56464247 0.60518641 0.64421769 0.68163876 0.71735609 0.75128041\n",
      " 0.78332691 0.8134155 ]\n"
     ]
    }
   ],
   "source": [
    "sarray=np.sin(ar)\n",
    "carray=np.cos(ar)\n",
    "print('Sin array is',sarray)"
   ]
  },
  {
   "cell_type": "code",
   "execution_count": null,
   "metadata": {
    "id": "LawVjbdQ6gnA",
    "colab_type": "code",
    "colab": {
     "base_uri": "https://localhost:8080/",
     "height": 90.0
    },
    "outputId": "aac0b97b-76b9-4788-80f9-aeab40edbbd9"
   },
   "outputs": [
    {
     "name": "stdout",
     "output_type": "stream",
     "text": [
      "Cos value  [1.         0.99875026 0.99500417 0.98877108 0.98006658 0.96891242\n",
      " 0.95533649 0.93937271 0.92106099 0.9004471  0.87758256 0.85252452\n",
      " 0.82533561 0.7960838  0.76484219 0.73168887 0.69670671 0.65998315\n",
      " 0.62160997 0.58168309]\n"
     ]
    }
   ],
   "source": [
    "print('Cos value ',carray)"
   ]
  },
  {
   "cell_type": "code",
   "execution_count": null,
   "metadata": {
    "id": "uX1dVZrN6nMh",
    "colab_type": "code",
    "colab": {
     "base_uri": "https://localhost:8080/",
     "height": 126.0
    },
    "outputId": "d4709f0b-2d6e-474f-b814-6f60a639d9d5"
   },
   "outputs": [
    {
     "name": "stdout",
     "output_type": "stream",
     "text": [
      "[[11 12 13]\n",
      " [14 15 16]\n",
      " [17 18 19]]\n",
      "[[1 2 3]\n",
      " [4 5 6]\n",
      " [7 8 9]]\n"
     ]
    }
   ],
   "source": [
    "print(m1)\n",
    "print(m2)"
   ]
  },
  {
   "cell_type": "code",
   "execution_count": null,
   "metadata": {
    "id": "fYT4hDzW7FwA",
    "colab_type": "code",
    "colab": {
     "base_uri": "https://localhost:8080/",
     "height": 72.0
    },
    "outputId": "51118d9e-2b8b-4c9f-a018-e3f6e4fa0142"
   },
   "outputs": [
    {
     "data": {
      "text/plain": [
       "array([[150, 186, 222],\n",
       "       [186, 231, 276],\n",
       "       [222, 276, 330]])"
      ]
     },
     "execution_count": 87,
     "metadata": {
      "tags": []
     },
     "output_type": "execute_result"
    }
   ],
   "source": [
    "np.dot(m1,m2)"
   ]
  },
  {
   "cell_type": "code",
   "execution_count": null,
   "metadata": {
    "id": "ePPe-m2b7MZS",
    "colab_type": "code",
    "colab": {
     "base_uri": "https://localhost:8080/",
     "height": 72.0
    },
    "outputId": "064b91b5-0295-421b-8297-3929ecb5dc77"
   },
   "outputs": [
    {
     "data": {
      "text/plain": [
       "array([[150, 186, 222],\n",
       "       [186, 231, 276],\n",
       "       [222, 276, 330]])"
      ]
     },
     "execution_count": 88,
     "metadata": {
      "tags": []
     },
     "output_type": "execute_result"
    }
   ],
   "source": [
    "m1.dot(m2)"
   ]
  },
  {
   "cell_type": "code",
   "execution_count": null,
   "metadata": {
    "id": "8kPsJXlT7kmF",
    "colab_type": "code",
    "colab": {
     "base_uri": "https://localhost:8080/",
     "height": 90.0
    },
    "outputId": "bf0f4e96-01b1-46d4-d53f-d1bd770f91d6"
   },
   "outputs": [
    {
     "name": "stdout",
     "output_type": "stream",
     "text": [
      "Array is\n",
      "[[10 20 30]\n",
      " [ 1 70  3]\n",
      " [40 50 60]]\n"
     ]
    }
   ],
   "source": [
    "import numpy as np\n",
    "m=np.array([[10,20,30],[1,70,3],[40,50,60]])\n",
    "print('Array is')\n",
    "print(m)\n"
   ]
  },
  {
   "cell_type": "code",
   "execution_count": null,
   "metadata": {
    "id": "i5awaK_uuLaH",
    "colab_type": "code",
    "colab": {
     "base_uri": "https://localhost:8080/",
     "height": 108.0
    },
    "outputId": "2d129f88-40fb-4f8a-d0f7-1b45a1037fc2"
   },
   "outputs": [
    {
     "name": "stdout",
     "output_type": "stream",
     "text": [
      "Maximum value in array is 70\n",
      "Min value in array is 1\n",
      "Sum value in array is 284\n",
      "Mean value in array is 31.555555555555557\n",
      "Cumsum value in array is [ 10  30  60  61 131 134 174 224 284]\n"
     ]
    }
   ],
   "source": [
    "print(\"Maximum value in array is\", np.max(m))\n",
    "print(\"Min value in array is\", np.min(m))\n",
    "print(\"Sum value in array is\", np.sum(m))\n",
    "print(\"Mean value in array is\", np.mean(m))\n",
    "print(\"Cumsum value in array is\", np.cumsum(m))"
   ]
  },
  {
   "cell_type": "code",
   "execution_count": null,
   "metadata": {
    "id": "8ogAxSkhugQI",
    "colab_type": "code",
    "colab": {
     "base_uri": "https://localhost:8080/",
     "height": 72.0
    },
    "outputId": "4625448a-2169-4a0c-9956-de34cb42ac92"
   },
   "outputs": [
    {
     "name": "stdout",
     "output_type": "stream",
     "text": [
      "Maximum value in array  rowwise is [30 70 60]\n",
      "Min value in array  row wise is [10  1 40]\n",
      "Sum of elemnt in array row wise is [ 60  74 150]\n"
     ]
    }
   ],
   "source": [
    "# axis = 1  it means \n",
    "print(\"Maximum value in array  rowwise is\", np.max(m, axis=1))\n",
    "print(\"Min value in array  row wise is\", np.min(m,axis=1))\n",
    "print('Sum of elemnt in array row wise is',np.sum(m,axis=1))"
   ]
  },
  {
   "cell_type": "code",
   "execution_count": null,
   "metadata": {
    "id": "hGZdQNDVvEjn",
    "colab_type": "code",
    "colab": {
     "base_uri": "https://localhost:8080/",
     "height": 72.0
    },
    "outputId": "02979736-1701-4433-8878-f9efb45309c6"
   },
   "outputs": [
    {
     "name": "stdout",
     "output_type": "stream",
     "text": [
      "Maximum value in array  columnwise is [40 70 60]\n",
      "Min value in array  columnwise wise is [ 1 20  3]\n",
      "Sum of elemnt in array column wise is [ 51 140  93]\n"
     ]
    }
   ],
   "source": [
    "print(\"Maximum value in array  columnwise is\", np.max(m, axis=0))\n",
    "print(\"Min value in array  columnwise wise is\", np.min(m,axis=0))\n",
    "print('Sum of elemnt in array column wise is',np.sum(m,axis=0))"
   ]
  },
  {
   "cell_type": "code",
   "execution_count": null,
   "metadata": {
    "id": "VeAFe1H7wP9b",
    "colab_type": "code",
    "colab": {
     "base_uri": "https://localhost:8080/",
     "height": 35.0
    },
    "outputId": "3fc1abae-804e-473e-ab28-cb0a07ce57a0"
   },
   "outputs": [
    {
     "name": "stdout",
     "output_type": "stream",
     "text": [
      "Std is  [ 8.16496581 32.06590436  8.16496581]\n"
     ]
    }
   ],
   "source": [
    "print(\"Std is \",np.std(m,axis=1))"
   ]
  },
  {
   "cell_type": "code",
   "execution_count": null,
   "metadata": {
    "id": "gbuZaCRKwqUt",
    "colab_type": "code",
    "colab": {
     "base_uri": "https://localhost:8080/",
     "height": 72.0
    },
    "outputId": "04be5f52-9236-4890-b0ec-32e969407aa1"
   },
   "outputs": [
    {
     "name": "stdout",
     "output_type": "stream",
     "text": [
      "Correlation coffiecient [[1.         0.02546308 1.        ]\n",
      " [0.02546308 1.         0.02546308]\n",
      " [1.         0.02546308 1.        ]]\n"
     ]
    }
   ],
   "source": [
    "print(\"Correlation coffiecient\",np.corrcoef(m))"
   ]
  },
  {
   "cell_type": "code",
   "execution_count": null,
   "metadata": {
    "id": "TPcO0QotxDld",
    "colab_type": "code",
    "colab": {
     "base_uri": "https://localhost:8080/",
     "height": 72.0
    },
    "outputId": "38207ac3-9854-4cc5-cbb8-ec4a49dbe5b5"
   },
   "outputs": [
    {
     "name": "stdout",
     "output_type": "stream",
     "text": [
      "[[10 20 30]\n",
      " [ 1 70  3]\n",
      " [40 50 60]]\n"
     ]
    }
   ],
   "source": [
    "print(m)"
   ]
  },
  {
   "cell_type": "code",
   "execution_count": null,
   "metadata": {
    "id": "bGz3dVRKyXix",
    "colab_type": "code",
    "colab": {}
   },
   "outputs": [],
   "source": [
    "np.savetxt(\"myarray.np\",m,fmt='%.0f', delimiter=',')"
   ]
  },
  {
   "cell_type": "code",
   "execution_count": null,
   "metadata": {
    "id": "tBwpFRd1yoed",
    "colab_type": "code",
    "colab": {
     "base_uri": "https://localhost:8080/",
     "height": 72.0
    },
    "outputId": "5d3a8c31-3fcd-4066-aabc-a2fe5bef6b84"
   },
   "outputs": [
    {
     "name": "stdout",
     "output_type": "stream",
     "text": [
      "[[10 20 30]\n",
      " [ 1 70  3]\n",
      " [40 50 60]]\n"
     ]
    }
   ],
   "source": [
    "array =np.loadtxt(\"myarray.np\",dtype=np.int32,skiprows=0)\n",
    "print(array)"
   ]
  },
  {
   "cell_type": "code",
   "execution_count": null,
   "metadata": {
    "id": "bIvOqHbMzOu7",
    "colab_type": "code",
    "colab": {
     "base_uri": "https://localhost:8080/",
     "height": 72.0
    },
    "outputId": "7ac64645-795d-49c8-a4de-86652d2956cd"
   },
   "outputs": [
    {
     "name": "stdout",
     "output_type": "stream",
     "text": [
      "[[10 20 30]\n",
      " [ 1 70  3]\n",
      " [40 50 60]]\n"
     ]
    }
   ],
   "source": [
    "array =np.loadtxt(\"myarray.txt\",dtype=np.int32,skiprows=1)\n",
    "print(array)"
   ]
  },
  {
   "cell_type": "code",
   "execution_count": null,
   "metadata": {
    "id": "XSgc2SBuzn1a",
    "colab_type": "code",
    "colab": {
     "base_uri": "https://localhost:8080/",
     "height": 54.0
    },
    "outputId": "38ce95fe-db68-4a38-93fb-d880fb934cf1"
   },
   "outputs": [
    {
     "name": "stdout",
     "output_type": "stream",
     "text": [
      "[10  1 40]\n",
      "[20 70 50]\n"
     ]
    }
   ],
   "source": [
    "x,y,z =np.loadtxt(\"myarray.txt\",dtype=np.int32,skiprows=1,unpack=True)\n",
    "print(x)\n",
    "print(y)"
   ]
  },
  {
   "cell_type": "code",
   "execution_count": null,
   "metadata": {
    "id": "pFi4e6xX0FpF",
    "colab_type": "code",
    "colab": {
     "base_uri": "https://localhost:8080/",
     "height": 90.0
    },
    "outputId": "8cad56d7-2fd7-43d8-f959-daec02bc29d1"
   },
   "outputs": [
    {
     "name": "stdout",
     "output_type": "stream",
     "text": [
      "sorted array\n",
      "[[ 1  3 30]\n",
      " [10 20 60]\n",
      " [40 50 70]]\n"
     ]
    }
   ],
   "source": [
    "m.sort(axis=0)\n",
    "print(\"sorted array\")\n",
    "print(m)"
   ]
  },
  {
   "cell_type": "code",
   "execution_count": null,
   "metadata": {
    "id": "WmoQxMYD2nDm",
    "colab_type": "code",
    "colab": {
     "base_uri": "https://localhost:8080/",
     "height": 72.0
    },
    "outputId": "f67ea8e8-03cf-4fed-f6f7-0e103ab3c646"
   },
   "outputs": [
    {
     "name": "stdout",
     "output_type": "stream",
     "text": [
      "[[ 1  3 30]\n",
      " [10 20 60]\n",
      " [40 50 70]]\n"
     ]
    }
   ],
   "source": [
    "print(m)"
   ]
  },
  {
   "cell_type": "code",
   "execution_count": null,
   "metadata": {
    "id": "9GytXzDh5ITC",
    "colab_type": "code",
    "colab": {
     "base_uri": "https://localhost:8080/",
     "height": 72.0
    },
    "outputId": "427fc11c-d9b0-4e35-87e9-f467ce4afe74"
   },
   "outputs": [
    {
     "name": "stdout",
     "output_type": "stream",
     "text": [
      "Slicing 1 [[ 3]\n",
      " [20]\n",
      " [50]]\n"
     ]
    }
   ],
   "source": [
    "print(\"Slicing 1\",m[: , 1:2])"
   ]
  },
  {
   "cell_type": "code",
   "execution_count": null,
   "metadata": {
    "id": "ggD5tiP85QVI",
    "colab_type": "code",
    "colab": {
     "base_uri": "https://localhost:8080/",
     "height": 35.0
    },
    "outputId": "8d675adf-ffac-428c-9b95-7a93a527afbc"
   },
   "outputs": [
    {
     "name": "stdout",
     "output_type": "stream",
     "text": [
      "Slicing 2 [[10 20 60]]\n"
     ]
    }
   ],
   "source": [
    "print(\"Slicing 2\",m[1:2 ,:])"
   ]
  },
  {
   "cell_type": "code",
   "execution_count": null,
   "metadata": {
    "id": "FwQNGPmx5XJW",
    "colab_type": "code",
    "colab": {
     "base_uri": "https://localhost:8080/",
     "height": 54.0
    },
    "outputId": "10bac375-123e-4401-a9e2-ab03cc9afcbf"
   },
   "outputs": [
    {
     "name": "stdout",
     "output_type": "stream",
     "text": [
      "Slicing 3 [[20 60]\n",
      " [50 70]]\n"
     ]
    }
   ],
   "source": [
    "print(\"Slicing 3\",m[1: , 1:])"
   ]
  },
  {
   "cell_type": "code",
   "execution_count": null,
   "metadata": {
    "id": "nEgB5GVe5d4g",
    "colab_type": "code",
    "colab": {
     "base_uri": "https://localhost:8080/",
     "height": 54.0
    },
    "outputId": "371571e3-f0aa-4beb-9a77-40b203b8cbe8"
   },
   "outputs": [
    {
     "name": "stdout",
     "output_type": "stream",
     "text": [
      "Slicing 3 [[ 1 30]\n",
      " [40 70]]\n"
     ]
    }
   ],
   "source": [
    "print(\"Slicing 3\",m[::2 , ::2])"
   ]
  },
  {
   "cell_type": "code",
   "execution_count": null,
   "metadata": {
    "id": "gqYATmvp5iwX",
    "colab_type": "code",
    "colab": {
     "base_uri": "https://localhost:8080/",
     "height": 54.0
    },
    "outputId": "c9898695-37e5-46f8-b3b3-c57dab85dfc8"
   },
   "outputs": [
    {
     "name": "stdout",
     "output_type": "stream",
     "text": [
      "Slicing 4 [[70 40]\n",
      " [30  1]]\n"
     ]
    }
   ],
   "source": [
    "print(\"Slicing 4\",m[2::-2 , 2::-2])"
   ]
  },
  {
   "cell_type": "code",
   "execution_count": 4,
   "metadata": {
    "id": "ZGPv2TKT7Mq5",
    "colab_type": "code",
    "colab": {
     "base_uri": "https://localhost:8080/",
     "height": 72.0
    },
    "outputId": "5170f742-cc21-4ebe-f958-3b8825c514c2"
   },
   "outputs": [
    {
     "name": "stdout",
     "output_type": "stream",
     "text": [
      "[[10 20 30]\n",
      " [40 50 60]\n",
      " [70 80 90]]\n"
     ]
    }
   ],
   "source": [
    "#fancy indexing \n",
    "# arraname[[row coordinates],[columnco ordinates]]\n",
    "arr=np.arange(10,100,10)\n",
    "arr=np.reshape(arr,(3,3))\n",
    "print(arr)"
   ]
  },
  {
   "cell_type": "code",
   "execution_count": 5,
   "metadata": {
    "id": "s8F3OJdq4Fmg",
    "colab_type": "code",
    "colab": {
     "base_uri": "https://localhost:8080/",
     "height": 35.0
    },
    "outputId": "cbed09fe-96c5-44b2-b8a3-00d7264e08d6"
   },
   "outputs": [
    {
     "name": "stdout",
     "output_type": "stream",
     "text": [
      "[20 40 80 60 50 30]\n"
     ]
    }
   ],
   "source": [
    "print(arr[[0,1,2,1,1,0],[1,0,1,2,1,2]])"
   ]
  },
  {
   "cell_type": "code",
   "execution_count": 9,
   "metadata": {
    "id": "oMCVG4_W4j09",
    "colab_type": "code",
    "colab": {
     "base_uri": "https://localhost:8080/",
     "height": 54.0
    },
    "outputId": "21c5d54b-130e-4118-ba91-f0db38a46720"
   },
   "outputs": [
    {
     "name": "stdout",
     "output_type": "stream",
     "text": [
      "[60]\n",
      "[70 80 90]\n"
     ]
    }
   ],
   "source": [
    "#boolean indexing\n",
    "print(arr[arr%12==0 ])\n",
    "print(arr[arr>60])"
   ]
  },
  {
   "cell_type": "code",
   "execution_count": 11,
   "metadata": {
    "id": "vMQBCfXL48WG",
    "colab_type": "code",
    "colab": {
     "base_uri": "https://localhost:8080/",
     "height": 126.0
    },
    "outputId": "e7b6b0fd-13f4-4405-a186-b213b73f71a3"
   },
   "outputs": [
    {
     "name": "stdout",
     "output_type": "stream",
     "text": [
      "[[7 7 7]\n",
      " [7 7 7]\n",
      " [7 7 7]]\n",
      "[[2 2 2]\n",
      " [2 2 2]\n",
      " [2 2 2]]\n"
     ]
    }
   ],
   "source": [
    "m1=np.full((3,3),7)\n",
    "print(m1)\n",
    "m2=np.full((3,3),2)\n",
    "print(m2)"
   ]
  },
  {
   "cell_type": "code",
   "execution_count": 14,
   "metadata": {
    "id": "0O3nfvhT55FL",
    "colab_type": "code",
    "colab": {
     "base_uri": "https://localhost:8080/",
     "height": 126.0
    },
    "outputId": "0741d21e-83ca-43f9-9bdf-8d4f2b2e81b6"
   },
   "outputs": [
    {
     "data": {
      "text/plain": [
       "array([[7, 7, 7],\n",
       "       [7, 7, 7],\n",
       "       [7, 7, 7],\n",
       "       [2, 2, 2],\n",
       "       [2, 2, 2],\n",
       "       [2, 2, 2]])"
      ]
     },
     "execution_count": 14,
     "metadata": {
      "tags": []
     },
     "output_type": "execute_result"
    }
   ],
   "source": [
    "np.concatenate((m1,m2))"
   ]
  },
  {
   "cell_type": "code",
   "execution_count": 15,
   "metadata": {
    "id": "3yf-AlCZ6JQt",
    "colab_type": "code",
    "colab": {
     "base_uri": "https://localhost:8080/",
     "height": 72.0
    },
    "outputId": "0b77bc29-67f0-4922-f337-aa532f8857aa"
   },
   "outputs": [
    {
     "data": {
      "text/plain": [
       "array([[7, 7, 7, 2, 2, 2],\n",
       "       [7, 7, 7, 2, 2, 2],\n",
       "       [7, 7, 7, 2, 2, 2]])"
      ]
     },
     "execution_count": 15,
     "metadata": {
      "tags": []
     },
     "output_type": "execute_result"
    }
   ],
   "source": [
    "np.concatenate((m1,m2),axis=1)"
   ]
  },
  {
   "cell_type": "code",
   "execution_count": 17,
   "metadata": {
    "id": "V6zXAvoe6br5",
    "colab_type": "code",
    "colab": {
     "base_uri": "https://localhost:8080/",
     "height": 126.0
    },
    "outputId": "6d918eb8-f7e9-4d41-b044-1d3fb5f72363"
   },
   "outputs": [
    {
     "data": {
      "text/plain": [
       "array([[2, 2, 2],\n",
       "       [2, 2, 2],\n",
       "       [2, 2, 2],\n",
       "       [7, 7, 7],\n",
       "       [7, 7, 7],\n",
       "       [7, 7, 7]])"
      ]
     },
     "execution_count": 17,
     "metadata": {
      "tags": []
     },
     "output_type": "execute_result"
    }
   ],
   "source": [
    "# vstack stack array vertically \n",
    "np.vstack((m2,m1))"
   ]
  },
  {
   "cell_type": "code",
   "execution_count": 18,
   "metadata": {
    "id": "gwoj3iKG6_rR",
    "colab_type": "code",
    "colab": {
     "base_uri": "https://localhost:8080/",
     "height": 72.0
    },
    "outputId": "361a428c-1dbe-4756-ed2a-f0d6d8fbabea"
   },
   "outputs": [
    {
     "data": {
      "text/plain": [
       "array([[7, 7, 7, 2, 2, 2],\n",
       "       [7, 7, 7, 2, 2, 2],\n",
       "       [7, 7, 7, 2, 2, 2]])"
      ]
     },
     "execution_count": 18,
     "metadata": {
      "tags": []
     },
     "output_type": "execute_result"
    }
   ],
   "source": [
    "#hstack stack array horizontally\n",
    "np.hstack((m1,m2))"
   ]
  },
  {
   "cell_type": "code",
   "execution_count": 19,
   "metadata": {
    "id": "2qyEdNc37Khz",
    "colab_type": "code",
    "colab": {
     "base_uri": "https://localhost:8080/",
     "height": 126.0
    },
    "outputId": "b6eddc1a-f17b-4159-8d25-4111fae73b34"
   },
   "outputs": [
    {
     "data": {
      "text/plain": [
       "array([[7, 7, 7],\n",
       "       [7, 7, 7],\n",
       "       [7, 7, 7],\n",
       "       [2, 2, 2],\n",
       "       [2, 2, 2],\n",
       "       [2, 2, 2]])"
      ]
     },
     "execution_count": 19,
     "metadata": {
      "tags": []
     },
     "output_type": "execute_result"
    }
   ],
   "source": [
    "np.r_[m1,m2] # stack vertically"
   ]
  },
  {
   "cell_type": "code",
   "execution_count": 20,
   "metadata": {
    "id": "-XVB1Oer7dN4",
    "colab_type": "code",
    "colab": {
     "base_uri": "https://localhost:8080/",
     "height": 72.0
    },
    "outputId": "c69a09db-1ae5-424f-b3de-3ba9d2c4c761"
   },
   "outputs": [
    {
     "data": {
      "text/plain": [
       "array([[7, 7, 7, 2, 2, 2],\n",
       "       [7, 7, 7, 2, 2, 2],\n",
       "       [7, 7, 7, 2, 2, 2]])"
      ]
     },
     "execution_count": 20,
     "metadata": {
      "tags": []
     },
     "output_type": "execute_result"
    }
   ],
   "source": [
    "np.c_[m1,m2] # stack columnwise "
   ]
  },
  {
   "cell_type": "code",
   "execution_count": 24,
   "metadata": {
    "id": "nAMDmES-7oSn",
    "colab_type": "code",
    "colab": {
     "base_uri": "https://localhost:8080/",
     "height": 181.0
    },
    "outputId": "fe0ed7ce-7554-4026-c412-d519b072fcbf"
   },
   "outputs": [
    {
     "name": "stdout",
     "output_type": "stream",
     "text": [
      "[[7 7 7 2 2 2]\n",
      " [7 7 7 2 2 2]\n",
      " [7 7 7 2 2 2]]\n",
      "[[7 7 7]\n",
      " [7 7 7]\n",
      " [7 7 7]\n",
      " [2 2 2]\n",
      " [2 2 2]\n",
      " [2 2 2]]\n"
     ]
    }
   ],
   "source": [
    "print(np.column_stack((m1,m2)))\n",
    "print(np.row_stack((m1,m2)))"
   ]
  },
  {
   "cell_type": "code",
   "execution_count": 25,
   "metadata": {
    "id": "_lX5NXFh75Kn",
    "colab_type": "code",
    "colab": {
     "base_uri": "https://localhost:8080/",
     "height": 72.0
    },
    "outputId": "a52f7cf8-4dfb-46fe-c221-9b581c099081"
   },
   "outputs": [
    {
     "name": "stdout",
     "output_type": "stream",
     "text": [
      "[[10 20 30]\n",
      " [40 50 60]\n",
      " [70 80 90]]\n"
     ]
    }
   ],
   "source": [
    "print(arr)"
   ]
  },
  {
   "cell_type": "code",
   "execution_count": 29,
   "metadata": {
    "id": "VkIH9IuP78sK",
    "colab_type": "code",
    "colab": {
     "base_uri": "https://localhost:8080/",
     "height": 145.0
    },
    "outputId": "96936cb8-6246-47e1-d46a-1300a7e3d820"
   },
   "outputs": [
    {
     "data": {
      "text/plain": [
       "[array([[10],\n",
       "        [40],\n",
       "        [70]]), array([[20],\n",
       "        [50],\n",
       "        [80]]), array([[30],\n",
       "        [60],\n",
       "        [90]])]"
      ]
     },
     "execution_count": 29,
     "metadata": {
      "tags": []
     },
     "output_type": "execute_result"
    }
   ],
   "source": [
    "np.hsplit(arr,3)"
   ]
  },
  {
   "cell_type": "code",
   "execution_count": 41,
   "metadata": {
    "id": "W9vUnOGvAM40",
    "colab_type": "code",
    "colab": {
     "base_uri": "https://localhost:8080/",
     "height": 35.0
    },
    "outputId": "19ea2a1a-a2f6-4c0e-ef35-00358f281cfa"
   },
   "outputs": [
    {
     "data": {
      "text/plain": [
       "[array([[10, 20, 30]]), array([[40, 50, 60]]), array([[70, 80, 90]])]"
      ]
     },
     "execution_count": 41,
     "metadata": {
      "tags": []
     },
     "output_type": "execute_result"
    }
   ],
   "source": [
    "np.vsplit(arr,3)\n"
   ]
  },
  {
   "cell_type": "code",
   "execution_count": 55,
   "metadata": {
    "id": "QPNNmVNxAl-C",
    "colab_type": "code",
    "colab": {}
   },
   "outputs": [],
   "source": [
    "m1=np.full((3,3),5)\n",
    "m2=np.full((3,3),7)"
   ]
  },
  {
   "cell_type": "code",
   "execution_count": 56,
   "metadata": {
    "id": "LYUnpzLaFag3",
    "colab_type": "code",
    "colab": {
     "base_uri": "https://localhost:8080/",
     "height": 54.0
    },
    "outputId": "0a62f4a7-81b2-4dbe-fab3-3534648f40f5"
   },
   "outputs": [
    {
     "name": "stdout",
     "output_type": "stream",
     "text": [
      "appended array is\n",
      "[5 5 5 5 5 5 5 5 5 7 7 7 7 7 7 7 7 7]\n"
     ]
    }
   ],
   "source": [
    "appendarray=np.append(m1,m2)\n",
    "print(\"appended array is\")\n",
    "print(appendarray)"
   ]
  },
  {
   "cell_type": "code",
   "execution_count": 57,
   "metadata": {
    "id": "czmkDG__FvAq",
    "colab_type": "code",
    "colab": {
     "base_uri": "https://localhost:8080/",
     "height": 145.0
    },
    "outputId": "87890a84-d8db-43aa-955a-6086c314b571"
   },
   "outputs": [
    {
     "name": "stdout",
     "output_type": "stream",
     "text": [
      "appended array is\n",
      "[[5 5 5]\n",
      " [5 5 5]\n",
      " [5 5 5]\n",
      " [7 7 7]\n",
      " [7 7 7]\n",
      " [7 7 7]]\n"
     ]
    }
   ],
   "source": [
    "appendarray=np.append(m1,m2, axis=0)\n",
    "print(\"appended array is\")\n",
    "print(appendarray)"
   ]
  },
  {
   "cell_type": "code",
   "execution_count": 58,
   "metadata": {
    "id": "gKNdQwUTF2HC",
    "colab_type": "code",
    "colab": {
     "base_uri": "https://localhost:8080/",
     "height": 90.0
    },
    "outputId": "e901216c-2989-426d-8e42-88a409ff2770"
   },
   "outputs": [
    {
     "name": "stdout",
     "output_type": "stream",
     "text": [
      "appended array is\n",
      "[[5 5 5 7 7 7]\n",
      " [5 5 5 7 7 7]\n",
      " [5 5 5 7 7 7]]\n"
     ]
    }
   ],
   "source": [
    "appendarray=np.append(m1,m2,axis=1)\n",
    "print(\"appended array is\")\n",
    "print(appendarray)"
   ]
  },
  {
   "cell_type": "code",
   "execution_count": 59,
   "metadata": {
    "id": "1cIv2E7yF75v",
    "colab_type": "code",
    "colab": {
     "base_uri": "https://localhost:8080/",
     "height": 72.0
    },
    "outputId": "e032d44b-d149-4375-8d12-cf68cd08f3bc"
   },
   "outputs": [
    {
     "name": "stdout",
     "output_type": "stream",
     "text": [
      "[[5 5 5]\n",
      " [5 5 5]\n",
      " [5 5 5]]\n"
     ]
    }
   ],
   "source": [
    "print(m1)"
   ]
  },
  {
   "cell_type": "code",
   "execution_count": 60,
   "metadata": {
    "id": "ACubJ2r3Hs7D",
    "colab_type": "code",
    "colab": {
     "base_uri": "https://localhost:8080/",
     "height": 72.0
    },
    "outputId": "84d042e4-a866-49ea-d8d2-b87bfbb97d11"
   },
   "outputs": [
    {
     "name": "stdout",
     "output_type": "stream",
     "text": [
      "[[7 7 7]\n",
      " [7 7 7]\n",
      " [7 7 7]]\n"
     ]
    }
   ],
   "source": [
    "print(m2)"
   ]
  },
  {
   "cell_type": "code",
   "execution_count": 72,
   "metadata": {
    "id": "XmqbU3kKHuYD",
    "colab_type": "code",
    "colab": {
     "base_uri": "https://localhost:8080/",
     "height": 126.0
    },
    "outputId": "b19b5cec-9ace-48fb-872d-717e81b967c1"
   },
   "outputs": [
    {
     "name": "stdout",
     "output_type": "stream",
     "text": [
      "[[5 5 5]\n",
      " [7 7 7]\n",
      " [7 7 7]\n",
      " [7 7 7]\n",
      " [5 5 5]\n",
      " [5 5 5]]\n"
     ]
    }
   ],
   "source": [
    "insertedarray1=np.insert(m1,1,m2,axis=0)\n",
    "print(insertedarray1)"
   ]
  },
  {
   "cell_type": "code",
   "execution_count": 66,
   "metadata": {
    "id": "qSWTykpfIBRg",
    "colab_type": "code",
    "colab": {
     "base_uri": "https://localhost:8080/",
     "height": 72.0
    },
    "outputId": "90b63f5c-7b63-425d-f66e-2370f0519751"
   },
   "outputs": [
    {
     "name": "stdout",
     "output_type": "stream",
     "text": [
      "[[5 7 7 7 5 5]\n",
      " [5 7 7 7 5 5]\n",
      " [5 7 7 7 5 5]]\n"
     ]
    }
   ],
   "source": [
    "insertedarray=np.insert(m1,1,m2,axis=1)\n",
    "print(insertedarray)"
   ]
  },
  {
   "cell_type": "code",
   "execution_count": 69,
   "metadata": {
    "id": "fpDsH_MnIa0j",
    "colab_type": "code",
    "colab": {
     "base_uri": "https://localhost:8080/",
     "height": 35.0
    },
    "outputId": "c4bfd98d-55cd-4f0d-f702-f754af838a92"
   },
   "outputs": [
    {
     "name": "stdout",
     "output_type": "stream",
     "text": [
      "[  5 100 200 300   5   5   5   5   5   5   5   5]\n"
     ]
    }
   ],
   "source": [
    "m3=[100,200,300]\n",
    "insertedarray=np.insert(m1,1,m3)\n",
    "print(insertedarray)"
   ]
  },
  {
   "cell_type": "code",
   "execution_count": 75,
   "metadata": {
    "id": "hjXx33LHImMR",
    "colab_type": "code",
    "colab": {
     "base_uri": "https://localhost:8080/",
     "height": 145.0
    },
    "outputId": "b757f10a-eaa1-481b-ebb0-fe1104a54aae"
   },
   "outputs": [
    {
     "name": "stdout",
     "output_type": "stream",
     "text": [
      "[5 5 5 5 5 5 5 5]\n",
      "[[5 5 5]\n",
      " [7 7 7]\n",
      " [7 7 7]\n",
      " [7 7 7]\n",
      " [5 5 5]\n",
      " [5 5 5]]\n"
     ]
    }
   ],
   "source": [
    "\n",
    "deletedarray=np.delete(m1,1)\n",
    "print(deletedarray)\n",
    "print(insertedarray1)"
   ]
  },
  {
   "cell_type": "code",
   "execution_count": 74,
   "metadata": {
    "id": "KB5KMZEDKr3b",
    "colab_type": "code",
    "colab": {
     "base_uri": "https://localhost:8080/",
     "height": 108.0
    },
    "outputId": "e6359f26-65a2-47ab-d081-29a1e4e1c7e8"
   },
   "outputs": [
    {
     "data": {
      "text/plain": [
       "array([[5, 5, 5],\n",
       "       [7, 7, 7],\n",
       "       [7, 7, 7],\n",
       "       [5, 5, 5],\n",
       "       [5, 5, 5]])"
      ]
     },
     "execution_count": 74,
     "metadata": {
      "tags": []
     },
     "output_type": "execute_result"
    }
   ],
   "source": [
    "np.delete(insertedarray1,1 ,axis=0)"
   ]
  },
  {
   "cell_type": "code",
   "execution_count": 76,
   "metadata": {
    "id": "KeSLsMWtLA2s",
    "colab_type": "code",
    "colab": {
     "base_uri": "https://localhost:8080/",
     "height": 126.0
    },
    "outputId": "5dbe05e9-561e-4353-b152-ac7a8c3d7822"
   },
   "outputs": [
    {
     "data": {
      "text/plain": [
       "array([[5, 5],\n",
       "       [7, 7],\n",
       "       [7, 7],\n",
       "       [7, 7],\n",
       "       [5, 5],\n",
       "       [5, 5]])"
      ]
     },
     "execution_count": 76,
     "metadata": {
      "tags": []
     },
     "output_type": "execute_result"
    }
   ],
   "source": [
    "np.delete(insertedarray1,1 ,axis=1)"
   ]
  },
  {
   "cell_type": "code",
   "execution_count": 77,
   "metadata": {
    "id": "zqWF81XCLThb",
    "colab_type": "code",
    "colab": {
     "base_uri": "https://localhost:8080/",
     "height": 72.0
    },
    "outputId": "a7a7bb0b-5427-4df7-d7f4-4b55ae2ea4df"
   },
   "outputs": [
    {
     "data": {
      "text/plain": [
       "array([[5, 5, 5],\n",
       "       [5, 5, 5],\n",
       "       [5, 5, 5]])"
      ]
     },
     "execution_count": 77,
     "metadata": {
      "tags": []
     },
     "output_type": "execute_result"
    }
   ],
   "source": [
    "m1"
   ]
  },
  {
   "cell_type": "code",
   "execution_count": 82,
   "metadata": {
    "id": "V_oOvRx-LppJ",
    "colab_type": "code",
    "colab": {}
   },
   "outputs": [],
   "source": [
    "m3=[10,20,30]"
   ]
  },
  {
   "cell_type": "code",
   "execution_count": 83,
   "metadata": {
    "id": "fLtClGzqLrpq",
    "colab_type": "code",
    "colab": {
     "base_uri": "https://localhost:8080/",
     "height": 72.0
    },
    "outputId": "54559b13-87e8-434f-80b4-bb034eafabb9"
   },
   "outputs": [
    {
     "data": {
      "text/plain": [
       "array([[15, 25, 35],\n",
       "       [15, 25, 35],\n",
       "       [15, 25, 35]])"
      ]
     },
     "execution_count": 83,
     "metadata": {
      "tags": []
     },
     "output_type": "execute_result"
    }
   ],
   "source": [
    "m1+m3"
   ]
  },
  {
   "cell_type": "code",
   "execution_count": 84,
   "metadata": {
    "id": "ik2jB-PILuD2",
    "colab_type": "code",
    "colab": {
     "base_uri": "https://localhost:8080/",
     "height": 72.0
    },
    "outputId": "0b44a12e-2c38-4cf9-def6-9144c2571859"
   },
   "outputs": [
    {
     "data": {
      "text/plain": [
       "array([[-2, -2, -2],\n",
       "       [-2, -2, -2],\n",
       "       [-2, -2, -2]])"
      ]
     },
     "execution_count": 84,
     "metadata": {
      "tags": []
     },
     "output_type": "execute_result"
    }
   ],
   "source": [
    "m1-m2"
   ]
  },
  {
   "cell_type": "code",
   "execution_count": null,
   "metadata": {
    "id": "7XugGRWEMP8y",
    "colab_type": "code",
    "colab": {}
   },
   "outputs": [],
   "source": [
    ""
   ]
  }
 ],
 "metadata": {
  "colab": {
   "name": "Numpy Example Evening .ipynb",
   "provenance": [],
   "collapsed_sections": []
  },
  "kernelspec": {
   "name": "python3",
   "display_name": "Python 3"
  }
 },
 "nbformat": 4,
 "nbformat_minor": 0
}
