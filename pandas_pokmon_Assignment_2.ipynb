{
  "nbformat": 4,
  "nbformat_minor": 0,
  "metadata": {
    "colab": {
      "name": "Untitled12.ipynb",
      "provenance": [],
      "authorship_tag": "ABX9TyOzXgmplonn/WHAJB9Td+RC",
      "include_colab_link": true
    },
    "kernelspec": {
      "name": "python3",
      "display_name": "Python 3"
    }
  },
  "cells": [
    {
      "cell_type": "markdown",
      "metadata": {
        "id": "view-in-github",
        "colab_type": "text"
      },
      "source": [
        "<a href=\"https://colab.research.google.com/github/abrishwon21/ML_in_Python/blob/master/pandas_pokmon_Assignment_2.ipynb\" target=\"_parent\"><img src=\"https://colab.research.google.com/assets/colab-badge.svg\" alt=\"Open In Colab\"/></a>"
      ]
    },
    {
      "cell_type": "code",
      "metadata": {
        "id": "PfWMTgLSz8er",
        "colab_type": "code",
        "colab": {
          "base_uri": "https://localhost:8080/",
          "height": 381
        },
        "outputId": "f8fcedcb-82e6-479e-802f-8ffab0cdafe5"
      },
      "source": [
        "'''\n",
        "Pandas Assignment 2\n",
        "\n",
        "Q1.print top most powerfull pokemons on the basis of their total/average total\n",
        "Q2.i)Take pokemon name from the user and print the details of that particular pokemon,say usr_pok.\n",
        "  ii)Generate random number and using that number,display a particular pokemon,say comp_pok\n",
        "  iii) Now depending on the above two questions,compare the two pokemons,such as \n",
        "      usr_pok and comp_pok on the basis of their total.\n",
        "      Note: if they have the same total,their Legendary will be taken into consideration\n",
        "'''\n",
        "\n",
        "import pandas as pd\n",
        "\n",
        "import numpy as np\n",
        "\n",
        "df=pd.read_csv(\"/content/sample_data/Pokemon.csv\")\n",
        "df2=df.groupby(['Type1']).mean().sort_values('Total',ascending=False)\n",
        "TopType=df2.loc[:,:'Total']\n",
        "print('____The most powerfull type of pokemons______')\n",
        "print(TopType)\n"
      ],
      "execution_count": 24,
      "outputs": [
        {
          "output_type": "stream",
          "text": [
            "____The most powerfull type of pokemons______\n",
            "                   #       Total\n",
            "Type1                           \n",
            "Dragon    474.375000  550.531250\n",
            "Steel     442.851852  487.703704\n",
            "Flying    677.750000  485.000000\n",
            "Psychic   380.807018  475.947368\n",
            "Fire      327.403846  458.076923\n",
            "Rock      392.727273  453.750000\n",
            "Dark      461.354839  445.741935\n",
            "Electric  363.500000  443.409091\n",
            "Ghost     486.500000  439.562500\n",
            "Ground    356.281250  437.500000\n",
            "Ice       423.541667  433.458333\n",
            "Water     303.089286  430.455357\n",
            "Grass     344.871429  421.142857\n",
            "Fighting  363.851852  416.444444\n",
            "Fairy     449.529412  413.176471\n",
            "Normal    319.173469  401.683673\n",
            "Poison    251.785714  399.142857\n",
            "Bug       334.492754  378.927536\n"
          ],
          "name": "stdout"
        }
      ]
    },
    {
      "cell_type": "code",
      "metadata": {
        "id": "BAwwTdwlMajC",
        "colab_type": "code",
        "colab": {
          "base_uri": "https://localhost:8080/",
          "height": 97
        },
        "outputId": "ebd3d8f8-2c05-4941-8dbc-315573204486"
      },
      "source": [
        "#userpokemon\n",
        "\n",
        "usrpok=input(\"please enter the pokemon Name\")\n",
        "grupbyName=df.groupby('Name')\n",
        "userPok=grupbyName.get_group(usrpok)\n",
        "userPok\n",
        "\n"
      ],
      "execution_count": 98,
      "outputs": [
        {
          "output_type": "stream",
          "text": [
            "please enter the pokemon NameBulbasaur\n"
          ],
          "name": "stdout"
        },
        {
          "output_type": "execute_result",
          "data": {
            "text/html": [
              "<div>\n",
              "<style scoped>\n",
              "    .dataframe tbody tr th:only-of-type {\n",
              "        vertical-align: middle;\n",
              "    }\n",
              "\n",
              "    .dataframe tbody tr th {\n",
              "        vertical-align: top;\n",
              "    }\n",
              "\n",
              "    .dataframe thead th {\n",
              "        text-align: right;\n",
              "    }\n",
              "</style>\n",
              "<table border=\"1\" class=\"dataframe\">\n",
              "  <thead>\n",
              "    <tr style=\"text-align: right;\">\n",
              "      <th></th>\n",
              "      <th>#</th>\n",
              "      <th>Name</th>\n",
              "      <th>Type1</th>\n",
              "      <th>Type 2</th>\n",
              "      <th>Total</th>\n",
              "      <th>HP</th>\n",
              "      <th>Attack</th>\n",
              "      <th>Defense</th>\n",
              "      <th>Sp. Atk</th>\n",
              "      <th>Sp. Def</th>\n",
              "      <th>Speed</th>\n",
              "      <th>Generation</th>\n",
              "      <th>Legendary</th>\n",
              "    </tr>\n",
              "  </thead>\n",
              "  <tbody>\n",
              "    <tr>\n",
              "      <th>0</th>\n",
              "      <td>1</td>\n",
              "      <td>Bulbasaur</td>\n",
              "      <td>Grass</td>\n",
              "      <td>Poison</td>\n",
              "      <td>318</td>\n",
              "      <td>45</td>\n",
              "      <td>49</td>\n",
              "      <td>49</td>\n",
              "      <td>65</td>\n",
              "      <td>65</td>\n",
              "      <td>45</td>\n",
              "      <td>1</td>\n",
              "      <td>False</td>\n",
              "    </tr>\n",
              "  </tbody>\n",
              "</table>\n",
              "</div>"
            ],
            "text/plain": [
              "   #       Name  Type1  Type 2  ...  Sp. Def  Speed  Generation  Legendary\n",
              "0  1  Bulbasaur  Grass  Poison  ...       65     45           1      False\n",
              "\n",
              "[1 rows x 13 columns]"
            ]
          },
          "metadata": {
            "tags": []
          },
          "execution_count": 98
        }
      ]
    },
    {
      "cell_type": "code",
      "metadata": {
        "id": "lUWiSi1WL-UK",
        "colab_type": "code",
        "colab": {}
      },
      "source": [
        ""
      ],
      "execution_count": null,
      "outputs": []
    },
    {
      "cell_type": "code",
      "metadata": {
        "id": "pMPZhuDsDA5S",
        "colab_type": "code",
        "colab": {
          "base_uri": "https://localhost:8080/",
          "height": 277
        },
        "outputId": "3e81a75f-ac1c-4390-ae43-09df9051f2ab"
      },
      "source": [
        "import random as rand\n",
        "#let's generate the random number as index for grouping purpose\n",
        "\n",
        "maxind=rand.randint(-1,800)\n",
        "computerPok=df.loc[:maxind,:]\n",
        "print('========The details of computer pokemon===========')\n",
        "computer_pokman=computerPok.iloc[maxind]\n",
        "computer_pokman\n",
        "\n",
        "\n"
      ],
      "execution_count": 100,
      "outputs": [
        {
          "output_type": "stream",
          "text": [
            "========The details of computer pokemon===========\n"
          ],
          "name": "stdout"
        },
        {
          "output_type": "execute_result",
          "data": {
            "text/plain": [
              "#                  569\n",
              "Name          Garbodor\n",
              "Type1           Poison\n",
              "Type 2             NaN\n",
              "Total              474\n",
              "HP                  80\n",
              "Attack              95\n",
              "Defense             82\n",
              "Sp. Atk             60\n",
              "Sp. Def             82\n",
              "Speed               75\n",
              "Generation           5\n",
              "Legendary        False\n",
              "Name: 630, dtype: object"
            ]
          },
          "metadata": {
            "tags": []
          },
          "execution_count": 100
        }
      ]
    },
    {
      "cell_type": "code",
      "metadata": {
        "id": "PqOZMw3ZPgk9",
        "colab_type": "code",
        "colab": {
          "base_uri": "https://localhost:8080/",
          "height": 52
        },
        "outputId": "33959e02-db03-40fc-bcf5-08c135bd1c95"
      },
      "source": [
        "#Now let's compare them on the basis of their total\n",
        "def comparThem():\n",
        "  if (int (computer_pokman['Total'])==int (userPok['Total'])):\n",
        "    if (computer_pokman['Legendary']==True and userPok['Legendary']==True):\n",
        "      print(computer_pokman['Name'],\" and \",userPok['Name'],\" are the same\")\n",
        "    elif (computer_pokman['Legendary']==True and userPok['Legendary']==False):\n",
        "      print(computer_pokman['Name'],\" is the most powerfull\")\n",
        "    else:\n",
        "      print(userPok['Name'],\" is powerfull\")\n",
        "  elif (int (computer_pokman['Total']) > int (userPok['Total'])):\n",
        "    print(computer_pokman['Name'],\" is the winner\")\n",
        "  else:\n",
        "    print(userPok['Name'],\" are the winners\")\n",
        "print(\"the result of comparison:\")\n",
        "comparThem()"
      ],
      "execution_count": 101,
      "outputs": [
        {
          "output_type": "stream",
          "text": [
            "the result of comparison:\n",
            "Garbodor  is the winner\n"
          ],
          "name": "stdout"
        }
      ]
    }
  ]
}